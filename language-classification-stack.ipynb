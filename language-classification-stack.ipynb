{
 "cells": [
  {
   "cell_type": "code",
   "execution_count": 1,
   "id": "a3f24273",
   "metadata": {
    "_cell_guid": "b1076dfc-b9ad-4769-8c92-a6c4dae69d19",
    "_uuid": "8f2839f25d086af736a60e9eeb907d3b93b6e0e5",
    "execution": {
     "iopub.execute_input": "2023-06-23T23:21:14.497525Z",
     "iopub.status.busy": "2023-06-23T23:21:14.496917Z",
     "iopub.status.idle": "2023-06-23T23:21:14.508871Z",
     "shell.execute_reply": "2023-06-23T23:21:14.507561Z"
    },
    "papermill": {
     "duration": 0.03061,
     "end_time": "2023-06-23T23:21:14.510949",
     "exception": false,
     "start_time": "2023-06-23T23:21:14.480339",
     "status": "completed"
    },
    "tags": []
   },
   "outputs": [
    {
     "name": "stdout",
     "output_type": "stream",
     "text": [
      "/kaggle/input/south-african-language-identification-hack-2023/sample_submission.csv\n",
      "/kaggle/input/south-african-language-identification-hack-2023/test_set.csv\n",
      "/kaggle/input/south-african-language-identification-hack-2023/train_set.csv\n"
     ]
    }
   ],
   "source": [
    "# This Python 3 environment comes with many helpful analytics libraries installed\n",
    "# It is defined by the kaggle/python Docker image: https://github.com/kaggle/docker-python\n",
    "# For example, here's several helpful packages to load\n",
    "\n",
    "import numpy as np # linear algebra\n",
    "import pandas as pd # data processing, CSV file I/O (e.g. pd.read_csv)\n",
    "\n",
    "# Input data files are available in the read-only \"../input/\" directory\n",
    "# For example, running this (by clicking run or pressing Shift+Enter) will list all files under the input directory\n",
    "\n",
    "import os\n",
    "for dirname, _, filenames in os.walk('/kaggle/input'):\n",
    "    for filename in filenames:\n",
    "        print(os.path.join(dirname, filename))\n",
    "\n",
    "# You can write up to 20GB to the current directory (/kaggle/working/) that gets preserved as output when you create a version using \"Save & Run All\" \n",
    "# You can also write temporary files to /kaggle/temp/, but they won't be saved outside of the current session"
   ]
  },
  {
   "cell_type": "markdown",
   "id": "a917b908",
   "metadata": {
    "papermill": {
     "duration": 0.015045,
     "end_time": "2023-06-23T23:21:14.540564",
     "exception": false,
     "start_time": "2023-06-23T23:21:14.525519",
     "status": "completed"
    },
    "tags": []
   },
   "source": [
    "# Importing dependencies"
   ]
  },
  {
   "cell_type": "code",
   "execution_count": 2,
   "id": "9cef65df",
   "metadata": {
    "execution": {
     "iopub.execute_input": "2023-06-23T23:21:14.571726Z",
     "iopub.status.busy": "2023-06-23T23:21:14.571060Z",
     "iopub.status.idle": "2023-06-23T23:21:28.528854Z",
     "shell.execute_reply": "2023-06-23T23:21:28.527546Z"
    },
    "papermill": {
     "duration": 13.976322,
     "end_time": "2023-06-23T23:21:28.531575",
     "exception": false,
     "start_time": "2023-06-23T23:21:14.555253",
     "status": "completed"
    },
    "tags": []
   },
   "outputs": [
    {
     "name": "stdout",
     "output_type": "stream",
     "text": [
      "[nltk_data] Downloading package stopwords to /usr/share/nltk_data...\n",
      "[nltk_data]   Package stopwords is already up-to-date!\n",
      "Collecting nlppreprocess\r\n",
      "  Downloading nlppreprocess-1.0.2-py3-none-any.whl (5.1 kB)\r\n",
      "Installing collected packages: nlppreprocess\r\n",
      "Successfully installed nlppreprocess-1.0.2\r\n",
      "\u001b[33mWARNING: Running pip as the 'root' user can result in broken permissions and conflicting behaviour with the system package manager. It is recommended to use a virtual environment instead: https://pip.pypa.io/warnings/venv\u001b[0m\u001b[33m\r\n",
      "\u001b[0m"
     ]
    }
   ],
   "source": [
    "import seaborn as sns\n",
    "import matplotlib.pyplot as plt\n",
    "import matplotlib.style as style\n",
    "%matplotlib inline\n",
    "import nltk\n",
    "import re\n",
    "import string\n",
    "nltk.download('stopwords')\n",
    "from nltk.corpus import stopwords\n",
    "%timeit\n",
    "!pip install nlppreprocess\n",
    "#Loading Datasets,\n",
    "#Performing an EDA,\n",
    "#Data Processing and Engineering,\n",
    "#Model development through the use of Classifiers and F1 scores,\n",
    "#Training Model,\n",
    "#Submission of Model to Kaggle."
   ]
  },
  {
   "cell_type": "markdown",
   "id": "aff74d56",
   "metadata": {
    "papermill": {
     "duration": 0.014631,
     "end_time": "2023-06-23T23:21:28.561491",
     "exception": false,
     "start_time": "2023-06-23T23:21:28.546860",
     "status": "completed"
    },
    "tags": []
   },
   "source": [
    "# Setting Constants"
   ]
  },
  {
   "cell_type": "code",
   "execution_count": 3,
   "id": "d0882959",
   "metadata": {
    "execution": {
     "iopub.execute_input": "2023-06-23T23:21:28.593262Z",
     "iopub.status.busy": "2023-06-23T23:21:28.592822Z",
     "iopub.status.idle": "2023-06-23T23:21:28.597825Z",
     "shell.execute_reply": "2023-06-23T23:21:28.596772Z"
    },
    "papermill": {
     "duration": 0.023507,
     "end_time": "2023-06-23T23:21:28.599909",
     "exception": false,
     "start_time": "2023-06-23T23:21:28.576402",
     "status": "completed"
    },
    "tags": []
   },
   "outputs": [],
   "source": [
    "Const = 31 #random state"
   ]
  },
  {
   "cell_type": "markdown",
   "id": "09bbf7e5",
   "metadata": {
    "papermill": {
     "duration": 0.014803,
     "end_time": "2023-06-23T23:21:28.629891",
     "exception": false,
     "start_time": "2023-06-23T23:21:28.615088",
     "status": "completed"
    },
    "tags": []
   },
   "source": [
    "# Importing Data"
   ]
  },
  {
   "cell_type": "code",
   "execution_count": 4,
   "id": "c1ae058f",
   "metadata": {
    "execution": {
     "iopub.execute_input": "2023-06-23T23:21:28.661960Z",
     "iopub.status.busy": "2023-06-23T23:21:28.661561Z",
     "iopub.status.idle": "2023-06-23T23:21:28.926609Z",
     "shell.execute_reply": "2023-06-23T23:21:28.925518Z"
    },
    "papermill": {
     "duration": 0.283922,
     "end_time": "2023-06-23T23:21:28.929030",
     "exception": false,
     "start_time": "2023-06-23T23:21:28.645108",
     "status": "completed"
    },
    "tags": []
   },
   "outputs": [
    {
     "data": {
      "text/html": [
       "<div>\n",
       "<style scoped>\n",
       "    .dataframe tbody tr th:only-of-type {\n",
       "        vertical-align: middle;\n",
       "    }\n",
       "\n",
       "    .dataframe tbody tr th {\n",
       "        vertical-align: top;\n",
       "    }\n",
       "\n",
       "    .dataframe thead th {\n",
       "        text-align: right;\n",
       "    }\n",
       "</style>\n",
       "<table border=\"1\" class=\"dataframe\">\n",
       "  <thead>\n",
       "    <tr style=\"text-align: right;\">\n",
       "      <th></th>\n",
       "      <th>lang_id</th>\n",
       "      <th>text</th>\n",
       "    </tr>\n",
       "  </thead>\n",
       "  <tbody>\n",
       "    <tr>\n",
       "      <th>0</th>\n",
       "      <td>xho</td>\n",
       "      <td>umgaqo-siseko wenza amalungiselelo kumaziko ax...</td>\n",
       "    </tr>\n",
       "    <tr>\n",
       "      <th>1</th>\n",
       "      <td>xho</td>\n",
       "      <td>i-dha iya kuba nobulumko bokubeka umsebenzi na...</td>\n",
       "    </tr>\n",
       "    <tr>\n",
       "      <th>2</th>\n",
       "      <td>eng</td>\n",
       "      <td>the province of kwazulu-natal department of tr...</td>\n",
       "    </tr>\n",
       "    <tr>\n",
       "      <th>3</th>\n",
       "      <td>nso</td>\n",
       "      <td>o netefatša gore o ba file dilo ka moka tše le...</td>\n",
       "    </tr>\n",
       "    <tr>\n",
       "      <th>4</th>\n",
       "      <td>ven</td>\n",
       "      <td>khomishini ya ndinganyiso ya mbeu yo ewa maana...</td>\n",
       "    </tr>\n",
       "  </tbody>\n",
       "</table>\n",
       "</div>"
      ],
      "text/plain": [
       "  lang_id                                               text\n",
       "0     xho  umgaqo-siseko wenza amalungiselelo kumaziko ax...\n",
       "1     xho  i-dha iya kuba nobulumko bokubeka umsebenzi na...\n",
       "2     eng  the province of kwazulu-natal department of tr...\n",
       "3     nso  o netefatša gore o ba file dilo ka moka tše le...\n",
       "4     ven  khomishini ya ndinganyiso ya mbeu yo ewa maana..."
      ]
     },
     "execution_count": 4,
     "metadata": {},
     "output_type": "execute_result"
    }
   ],
   "source": [
    "df = pd.read_csv(\"/kaggle/input/south-african-language-identification-hack-2023/train_set.csv\")\n",
    "df_proxy = df.copy() #creating a backup dataset for EDA\n",
    "df.head()"
   ]
  },
  {
   "cell_type": "markdown",
   "id": "f2cb3053",
   "metadata": {
    "papermill": {
     "duration": 0.015018,
     "end_time": "2023-06-23T23:21:28.959471",
     "exception": false,
     "start_time": "2023-06-23T23:21:28.944453",
     "status": "completed"
    },
    "tags": []
   },
   "source": [
    "Train data has 2 rows and 33000 columns"
   ]
  },
  {
   "cell_type": "code",
   "execution_count": 5,
   "id": "3f0baa5c",
   "metadata": {
    "execution": {
     "iopub.execute_input": "2023-06-23T23:21:28.991313Z",
     "iopub.status.busy": "2023-06-23T23:21:28.990946Z",
     "iopub.status.idle": "2023-06-23T23:21:28.996969Z",
     "shell.execute_reply": "2023-06-23T23:21:28.996082Z"
    },
    "papermill": {
     "duration": 0.024982,
     "end_time": "2023-06-23T23:21:28.999662",
     "exception": false,
     "start_time": "2023-06-23T23:21:28.974680",
     "status": "completed"
    },
    "tags": []
   },
   "outputs": [
    {
     "data": {
      "text/plain": [
       "(33000, 2)"
      ]
     },
     "execution_count": 5,
     "metadata": {},
     "output_type": "execute_result"
    }
   ],
   "source": [
    "df.shape"
   ]
  },
  {
   "cell_type": "markdown",
   "id": "3820d5aa",
   "metadata": {
    "papermill": {
     "duration": 0.015171,
     "end_time": "2023-06-23T23:21:29.031337",
     "exception": false,
     "start_time": "2023-06-23T23:21:29.016166",
     "status": "completed"
    },
    "tags": []
   },
   "source": [
    "There are no null entries in the dataset."
   ]
  },
  {
   "cell_type": "code",
   "execution_count": 6,
   "id": "f42263d7",
   "metadata": {
    "execution": {
     "iopub.execute_input": "2023-06-23T23:21:29.064393Z",
     "iopub.status.busy": "2023-06-23T23:21:29.063733Z",
     "iopub.status.idle": "2023-06-23T23:21:29.087751Z",
     "shell.execute_reply": "2023-06-23T23:21:29.086722Z"
    },
    "papermill": {
     "duration": 0.04288,
     "end_time": "2023-06-23T23:21:29.089968",
     "exception": false,
     "start_time": "2023-06-23T23:21:29.047088",
     "status": "completed"
    },
    "tags": []
   },
   "outputs": [
    {
     "data": {
      "text/plain": [
       "lang_id    0\n",
       "text       0\n",
       "dtype: int64"
      ]
     },
     "execution_count": 6,
     "metadata": {},
     "output_type": "execute_result"
    }
   ],
   "source": [
    "df.isnull().sum()"
   ]
  },
  {
   "cell_type": "markdown",
   "id": "bc32e49d",
   "metadata": {
    "papermill": {
     "duration": 0.015632,
     "end_time": "2023-06-23T23:21:29.121611",
     "exception": false,
     "start_time": "2023-06-23T23:21:29.105979",
     "status": "completed"
    },
    "tags": []
   },
   "source": [
    "The dataset has two columns titled `lang_id` and `text` respectively."
   ]
  },
  {
   "cell_type": "code",
   "execution_count": 7,
   "id": "29dace3c",
   "metadata": {
    "execution": {
     "iopub.execute_input": "2023-06-23T23:21:29.155120Z",
     "iopub.status.busy": "2023-06-23T23:21:29.154303Z",
     "iopub.status.idle": "2023-06-23T23:21:29.161858Z",
     "shell.execute_reply": "2023-06-23T23:21:29.160735Z"
    },
    "papermill": {
     "duration": 0.026504,
     "end_time": "2023-06-23T23:21:29.163895",
     "exception": false,
     "start_time": "2023-06-23T23:21:29.137391",
     "status": "completed"
    },
    "tags": []
   },
   "outputs": [
    {
     "data": {
      "text/plain": [
       "Index(['lang_id', 'text'], dtype='object')"
      ]
     },
     "execution_count": 7,
     "metadata": {},
     "output_type": "execute_result"
    }
   ],
   "source": [
    "df.columns\n"
   ]
  },
  {
   "cell_type": "markdown",
   "id": "c3d3789a",
   "metadata": {
    "papermill": {
     "duration": 0.015235,
     "end_time": "2023-06-23T23:21:29.195076",
     "exception": false,
     "start_time": "2023-06-23T23:21:29.179841",
     "status": "completed"
    },
    "tags": []
   },
   "source": [
    "Setting generic variables.\n",
    " - Setting `lang_id` as `label` \n",
    " - Setting `text` as `feature`\n"
   ]
  },
  {
   "cell_type": "code",
   "execution_count": 8,
   "id": "b28069ab",
   "metadata": {
    "execution": {
     "iopub.execute_input": "2023-06-23T23:21:29.227879Z",
     "iopub.status.busy": "2023-06-23T23:21:29.227117Z",
     "iopub.status.idle": "2023-06-23T23:21:29.231315Z",
     "shell.execute_reply": "2023-06-23T23:21:29.230635Z"
    },
    "papermill": {
     "duration": 0.02283,
     "end_time": "2023-06-23T23:21:29.233292",
     "exception": false,
     "start_time": "2023-06-23T23:21:29.210462",
     "status": "completed"
    },
    "tags": []
   },
   "outputs": [],
   "source": [
    "label = 'lang_id'\n",
    "ft = 'text'"
   ]
  },
  {
   "cell_type": "markdown",
   "id": "9db15e3f",
   "metadata": {
    "papermill": {
     "duration": 0.015425,
     "end_time": "2023-06-23T23:21:29.264446",
     "exception": false,
     "start_time": "2023-06-23T23:21:29.249021",
     "status": "completed"
    },
    "tags": []
   },
   "source": [
    "There are 11 different classificaton groups."
   ]
  },
  {
   "cell_type": "code",
   "execution_count": 9,
   "id": "7c2ace89",
   "metadata": {
    "execution": {
     "iopub.execute_input": "2023-06-23T23:21:29.298106Z",
     "iopub.status.busy": "2023-06-23T23:21:29.297307Z",
     "iopub.status.idle": "2023-06-23T23:21:29.308312Z",
     "shell.execute_reply": "2023-06-23T23:21:29.307441Z"
    },
    "papermill": {
     "duration": 0.030186,
     "end_time": "2023-06-23T23:21:29.310393",
     "exception": false,
     "start_time": "2023-06-23T23:21:29.280207",
     "status": "completed"
    },
    "tags": []
   },
   "outputs": [
    {
     "data": {
      "text/plain": [
       "11"
      ]
     },
     "execution_count": 9,
     "metadata": {},
     "output_type": "execute_result"
    }
   ],
   "source": [
    "class_count = df[label].unique()\n",
    "len(class_count)"
   ]
  },
  {
   "cell_type": "code",
   "execution_count": 10,
   "id": "5d6ffcea",
   "metadata": {
    "execution": {
     "iopub.execute_input": "2023-06-23T23:21:29.343685Z",
     "iopub.status.busy": "2023-06-23T23:21:29.343105Z",
     "iopub.status.idle": "2023-06-23T23:21:29.358540Z",
     "shell.execute_reply": "2023-06-23T23:21:29.357656Z"
    },
    "papermill": {
     "duration": 0.03423,
     "end_time": "2023-06-23T23:21:29.360496",
     "exception": false,
     "start_time": "2023-06-23T23:21:29.326266",
     "status": "completed"
    },
    "tags": []
   },
   "outputs": [
    {
     "data": {
      "text/plain": [
       "count     33000\n",
       "unique       11\n",
       "top         xho\n",
       "freq       3000\n",
       "Name: lang_id, dtype: object"
      ]
     },
     "execution_count": 10,
     "metadata": {},
     "output_type": "execute_result"
    }
   ],
   "source": [
    "df[label].describe()"
   ]
  },
  {
   "cell_type": "markdown",
   "id": "0bed8a4e",
   "metadata": {
    "papermill": {
     "duration": 0.015263,
     "end_time": "2023-06-23T23:21:29.391401",
     "exception": false,
     "start_time": "2023-06-23T23:21:29.376138",
     "status": "completed"
    },
    "tags": []
   },
   "source": [
    "# Data Preprocessing\n"
   ]
  },
  {
   "cell_type": "code",
   "execution_count": 11,
   "id": "94a4869e",
   "metadata": {
    "execution": {
     "iopub.execute_input": "2023-06-23T23:21:29.424625Z",
     "iopub.status.busy": "2023-06-23T23:21:29.424042Z",
     "iopub.status.idle": "2023-06-23T23:21:29.446492Z",
     "shell.execute_reply": "2023-06-23T23:21:29.445780Z"
    },
    "papermill": {
     "duration": 0.041499,
     "end_time": "2023-06-23T23:21:29.448619",
     "exception": false,
     "start_time": "2023-06-23T23:21:29.407120",
     "status": "completed"
    },
    "tags": []
   },
   "outputs": [],
   "source": [
    "df_proxy['len'] = [len(text) for text in df_proxy[ft]]\n"
   ]
  },
  {
   "cell_type": "code",
   "execution_count": 12,
   "id": "ad686c80",
   "metadata": {
    "execution": {
     "iopub.execute_input": "2023-06-23T23:21:29.481729Z",
     "iopub.status.busy": "2023-06-23T23:21:29.481363Z",
     "iopub.status.idle": "2023-06-23T23:21:31.906607Z",
     "shell.execute_reply": "2023-06-23T23:21:31.905595Z"
    },
    "papermill": {
     "duration": 2.44467,
     "end_time": "2023-06-23T23:21:31.909059",
     "exception": false,
     "start_time": "2023-06-23T23:21:29.464389",
     "status": "completed"
    },
    "tags": []
   },
   "outputs": [],
   "source": [
    "stopword=set(stopwords.words('english'))  \n",
    "\n",
    "def clean(text):\n",
    "    text = str(text).lower() \n",
    "    text = re.sub(r'[-]',' ',text)\n",
    "    text = re.sub(r'[_]', ' ', text)\n",
    "    text = re.sub(r'[^\\w\\s]','',text)\n",
    "    text = re.sub('[0-9]+', '', text)\n",
    "    text = re.sub(r'[^\\x00-\\x7f]',r'', text)\n",
    "    text = re.sub('[%s]' % re.escape(string.punctuation), '', text)\n",
    "    text = re.sub('\\n', '', text)\n",
    "    text = re.sub('\\w*\\d\\w*', '', text)\n",
    "    text = [word for word in text.split(' ') if word not in stopword]\n",
    "    text =\" \".join(text)\n",
    "    return text\n",
    "\n",
    "df_proxy['clean'] = df_proxy['text'].apply(clean)\n"
   ]
  },
  {
   "cell_type": "code",
   "execution_count": 13,
   "id": "f0a793a6",
   "metadata": {
    "execution": {
     "iopub.execute_input": "2023-06-23T23:21:31.942132Z",
     "iopub.status.busy": "2023-06-23T23:21:31.941757Z",
     "iopub.status.idle": "2023-06-23T23:21:31.951565Z",
     "shell.execute_reply": "2023-06-23T23:21:31.950599Z"
    },
    "papermill": {
     "duration": 0.028732,
     "end_time": "2023-06-23T23:21:31.953657",
     "exception": false,
     "start_time": "2023-06-23T23:21:31.924925",
     "status": "completed"
    },
    "tags": []
   },
   "outputs": [
    {
     "data": {
      "text/html": [
       "<div>\n",
       "<style scoped>\n",
       "    .dataframe tbody tr th:only-of-type {\n",
       "        vertical-align: middle;\n",
       "    }\n",
       "\n",
       "    .dataframe tbody tr th {\n",
       "        vertical-align: top;\n",
       "    }\n",
       "\n",
       "    .dataframe thead th {\n",
       "        text-align: right;\n",
       "    }\n",
       "</style>\n",
       "<table border=\"1\" class=\"dataframe\">\n",
       "  <thead>\n",
       "    <tr style=\"text-align: right;\">\n",
       "      <th></th>\n",
       "      <th>lang_id</th>\n",
       "      <th>text</th>\n",
       "      <th>len</th>\n",
       "      <th>clean</th>\n",
       "    </tr>\n",
       "  </thead>\n",
       "  <tbody>\n",
       "    <tr>\n",
       "      <th>0</th>\n",
       "      <td>xho</td>\n",
       "      <td>umgaqo-siseko wenza amalungiselelo kumaziko ax...</td>\n",
       "      <td>220</td>\n",
       "      <td>umgaqo siseko wenza amalungiselelo kumaziko ax...</td>\n",
       "    </tr>\n",
       "    <tr>\n",
       "      <th>1</th>\n",
       "      <td>xho</td>\n",
       "      <td>i-dha iya kuba nobulumko bokubeka umsebenzi na...</td>\n",
       "      <td>252</td>\n",
       "      <td>dha iya kuba nobulumko bokubeka umsebenzi naph...</td>\n",
       "    </tr>\n",
       "    <tr>\n",
       "      <th>2</th>\n",
       "      <td>eng</td>\n",
       "      <td>the province of kwazulu-natal department of tr...</td>\n",
       "      <td>264</td>\n",
       "      <td>province kwazulu natal department transport in...</td>\n",
       "    </tr>\n",
       "    <tr>\n",
       "      <th>3</th>\n",
       "      <td>nso</td>\n",
       "      <td>o netefatša gore o ba file dilo ka moka tše le...</td>\n",
       "      <td>217</td>\n",
       "      <td>netefata gore ba file dilo ka moka te le dumel...</td>\n",
       "    </tr>\n",
       "    <tr>\n",
       "      <th>4</th>\n",
       "      <td>ven</td>\n",
       "      <td>khomishini ya ndinganyiso ya mbeu yo ewa maana...</td>\n",
       "      <td>239</td>\n",
       "      <td>khomishini ya ndinganyiso ya mbeu yo ewa maana...</td>\n",
       "    </tr>\n",
       "  </tbody>\n",
       "</table>\n",
       "</div>"
      ],
      "text/plain": [
       "  lang_id                                               text  len  \\\n",
       "0     xho  umgaqo-siseko wenza amalungiselelo kumaziko ax...  220   \n",
       "1     xho  i-dha iya kuba nobulumko bokubeka umsebenzi na...  252   \n",
       "2     eng  the province of kwazulu-natal department of tr...  264   \n",
       "3     nso  o netefatša gore o ba file dilo ka moka tše le...  217   \n",
       "4     ven  khomishini ya ndinganyiso ya mbeu yo ewa maana...  239   \n",
       "\n",
       "                                               clean  \n",
       "0  umgaqo siseko wenza amalungiselelo kumaziko ax...  \n",
       "1  dha iya kuba nobulumko bokubeka umsebenzi naph...  \n",
       "2  province kwazulu natal department transport in...  \n",
       "3  netefata gore ba file dilo ka moka te le dumel...  \n",
       "4  khomishini ya ndinganyiso ya mbeu yo ewa maana...  "
      ]
     },
     "execution_count": 13,
     "metadata": {},
     "output_type": "execute_result"
    }
   ],
   "source": [
    "df_proxy.head()"
   ]
  },
  {
   "cell_type": "code",
   "execution_count": 14,
   "id": "5023b851",
   "metadata": {
    "execution": {
     "iopub.execute_input": "2023-06-23T23:21:31.987159Z",
     "iopub.status.busy": "2023-06-23T23:21:31.986780Z",
     "iopub.status.idle": "2023-06-23T23:21:34.384652Z",
     "shell.execute_reply": "2023-06-23T23:21:34.383649Z"
    },
    "papermill": {
     "duration": 2.417521,
     "end_time": "2023-06-23T23:21:34.387172",
     "exception": false,
     "start_time": "2023-06-23T23:21:31.969651",
     "status": "completed"
    },
    "tags": []
   },
   "outputs": [],
   "source": [
    "df['clean'] = df[ft].apply(clean)"
   ]
  },
  {
   "cell_type": "markdown",
   "id": "582e753d",
   "metadata": {
    "papermill": {
     "duration": 0.016236,
     "end_time": "2023-06-23T23:21:34.419565",
     "exception": false,
     "start_time": "2023-06-23T23:21:34.403329",
     "status": "completed"
    },
    "tags": []
   },
   "source": [
    "# Feature Engineering"
   ]
  },
  {
   "cell_type": "code",
   "execution_count": 15,
   "id": "1650acdb",
   "metadata": {
    "execution": {
     "iopub.execute_input": "2023-06-23T23:21:34.453403Z",
     "iopub.status.busy": "2023-06-23T23:21:34.453050Z",
     "iopub.status.idle": "2023-06-23T23:21:34.457857Z",
     "shell.execute_reply": "2023-06-23T23:21:34.456842Z"
    },
    "papermill": {
     "duration": 0.024207,
     "end_time": "2023-06-23T23:21:34.459937",
     "exception": false,
     "start_time": "2023-06-23T23:21:34.435730",
     "status": "completed"
    },
    "tags": []
   },
   "outputs": [],
   "source": [
    "# Importing Label Encoder, Cross Validator, Hyperparameter Tuners and Train Test Split  \n",
    "from sklearn.preprocessing import LabelEncoder\n",
    "from sklearn.model_selection import train_test_split, GridSearchCV, StratifiedKFold, RepeatedStratifiedKFold, cross_val_score\n",
    "from sklearn.model_selection import KFold"
   ]
  },
  {
   "cell_type": "markdown",
   "id": "ce5c5030",
   "metadata": {
    "papermill": {
     "duration": 0.015448,
     "end_time": "2023-06-23T23:21:34.491343",
     "exception": false,
     "start_time": "2023-06-23T23:21:34.475895",
     "status": "completed"
    },
    "tags": []
   },
   "source": [
    "## Importing Models"
   ]
  },
  {
   "cell_type": "code",
   "execution_count": 16,
   "id": "8270a5c8",
   "metadata": {
    "execution": {
     "iopub.execute_input": "2023-06-23T23:21:34.524731Z",
     "iopub.status.busy": "2023-06-23T23:21:34.524388Z",
     "iopub.status.idle": "2023-06-23T23:21:34.537146Z",
     "shell.execute_reply": "2023-06-23T23:21:34.536266Z"
    },
    "papermill": {
     "duration": 0.03262,
     "end_time": "2023-06-23T23:21:34.539776",
     "exception": false,
     "start_time": "2023-06-23T23:21:34.507156",
     "status": "completed"
    },
    "tags": []
   },
   "outputs": [],
   "source": [
    "from sklearn.naive_bayes import MultinomialNB\n",
    "from sklearn.linear_model import RidgeClassifier"
   ]
  },
  {
   "cell_type": "markdown",
   "id": "e8345a94",
   "metadata": {
    "papermill": {
     "duration": 0.015902,
     "end_time": "2023-06-23T23:21:34.571738",
     "exception": false,
     "start_time": "2023-06-23T23:21:34.555836",
     "status": "completed"
    },
    "tags": []
   },
   "source": [
    "## Preparing The Data For Model Training"
   ]
  },
  {
   "cell_type": "code",
   "execution_count": 17,
   "id": "e668fb13",
   "metadata": {
    "execution": {
     "iopub.execute_input": "2023-06-23T23:21:34.605027Z",
     "iopub.status.busy": "2023-06-23T23:21:34.604651Z",
     "iopub.status.idle": "2023-06-23T23:21:34.616141Z",
     "shell.execute_reply": "2023-06-23T23:21:34.615249Z"
    },
    "papermill": {
     "duration": 0.03074,
     "end_time": "2023-06-23T23:21:34.618238",
     "exception": false,
     "start_time": "2023-06-23T23:21:34.587498",
     "status": "completed"
    },
    "tags": []
   },
   "outputs": [],
   "source": [
    "# Importing metrics, pipeline and vectorizers\n",
    "from sklearn import metrics\n",
    "from sklearn.pipeline import Pipeline\n",
    "from sklearn.feature_extraction.text import TfidfVectorizer"
   ]
  },
  {
   "cell_type": "code",
   "execution_count": 18,
   "id": "57872026",
   "metadata": {
    "execution": {
     "iopub.execute_input": "2023-06-23T23:21:34.652161Z",
     "iopub.status.busy": "2023-06-23T23:21:34.651539Z",
     "iopub.status.idle": "2023-06-23T23:21:34.656127Z",
     "shell.execute_reply": "2023-06-23T23:21:34.655258Z"
    },
    "papermill": {
     "duration": 0.023866,
     "end_time": "2023-06-23T23:21:34.658161",
     "exception": false,
     "start_time": "2023-06-23T23:21:34.634295",
     "status": "completed"
    },
    "tags": []
   },
   "outputs": [],
   "source": [
    "# Setting indepedent and target variables separetely\n",
    "X = df[ft]\n",
    "y = df[label]"
   ]
  },
  {
   "cell_type": "code",
   "execution_count": 19,
   "id": "5f122aab",
   "metadata": {
    "execution": {
     "iopub.execute_input": "2023-06-23T23:21:34.691946Z",
     "iopub.status.busy": "2023-06-23T23:21:34.691574Z",
     "iopub.status.idle": "2023-06-23T23:21:34.703585Z",
     "shell.execute_reply": "2023-06-23T23:21:34.702832Z"
    },
    "papermill": {
     "duration": 0.031402,
     "end_time": "2023-06-23T23:21:34.705601",
     "exception": false,
     "start_time": "2023-06-23T23:21:34.674199",
     "status": "completed"
    },
    "tags": []
   },
   "outputs": [],
   "source": [
    "# Encoding the y varialble\n",
    "encoder = LabelEncoder()\n",
    "y = encoder.fit_transform(y)"
   ]
  },
  {
   "cell_type": "code",
   "execution_count": 20,
   "id": "4bdc768f",
   "metadata": {
    "execution": {
     "iopub.execute_input": "2023-06-23T23:21:34.739395Z",
     "iopub.status.busy": "2023-06-23T23:21:34.738786Z",
     "iopub.status.idle": "2023-06-23T23:21:34.743672Z",
     "shell.execute_reply": "2023-06-23T23:21:34.742933Z"
    },
    "papermill": {
     "duration": 0.024113,
     "end_time": "2023-06-23T23:21:34.745692",
     "exception": false,
     "start_time": "2023-06-23T23:21:34.721579",
     "status": "completed"
    },
    "tags": []
   },
   "outputs": [],
   "source": [
    "# Storing names of models in a list for evaluation\n",
    "clf_names = ['RidgeClassifier',\n",
    "          'MultinomialNB']\n",
    "# Storing models in a list for evaluation\n",
    "clf_list = [RidgeClassifier(random_state=Const),MultinomialNB()]"
   ]
  },
  {
   "cell_type": "code",
   "execution_count": 21,
   "id": "02f4dbff",
   "metadata": {
    "execution": {
     "iopub.execute_input": "2023-06-23T23:21:34.779171Z",
     "iopub.status.busy": "2023-06-23T23:21:34.778812Z",
     "iopub.status.idle": "2023-06-23T23:21:34.806122Z",
     "shell.execute_reply": "2023-06-23T23:21:34.805214Z"
    },
    "papermill": {
     "duration": 0.046843,
     "end_time": "2023-06-23T23:21:34.808504",
     "exception": false,
     "start_time": "2023-06-23T23:21:34.761661",
     "status": "completed"
    },
    "tags": []
   },
   "outputs": [],
   "source": [
    "# Splitting the data into a train and test set \n",
    "# stratifying according to the dependant variable to preserve the proportion of different classes in the \n",
    "X_train , X_test , y_train , y_test = train_test_split(X , y, stratify=y,\n",
    "                                                       test_size =0.5, \n",
    "                                                       random_state=Const)"
   ]
  },
  {
   "cell_type": "code",
   "execution_count": 22,
   "id": "94b2a835",
   "metadata": {
    "execution": {
     "iopub.execute_input": "2023-06-23T23:21:34.842110Z",
     "iopub.status.busy": "2023-06-23T23:21:34.841722Z",
     "iopub.status.idle": "2023-06-23T23:21:34.850520Z",
     "shell.execute_reply": "2023-06-23T23:21:34.849851Z"
    },
    "papermill": {
     "duration": 0.027936,
     "end_time": "2023-06-23T23:21:34.852514",
     "exception": false,
     "start_time": "2023-06-23T23:21:34.824578",
     "status": "completed"
    },
    "tags": []
   },
   "outputs": [],
   "source": [
    "def performance_tester(X_train, y_train, X_test, y_test, classifiers, clf_name):\n",
    "    model_stats = {}  # Initialize dictionary to store performance statistics\n",
    "\n",
    "    for name, clf in zip(clf_name, classifiers):\n",
    "\n",
    "        model = Pipeline([('tfidf', TfidfVectorizer(min_df=0.05, max_df=0.9,\n",
    "                                    ngram_range=(1, 5),\n",
    "                                    analyzer='char')),\n",
    "                          ('clf', clf)])\n",
    "\n",
    "        model.fit(X_train, y_train)  # Train the model\n",
    "        result = %timeit -q -o model.fit(X_train, y_train) # Logging a runtime for each model\n",
    "        model_pred = model.predict(X_test)  # Make predictions on the testing data\n",
    "\n",
    "        # Compute performance metrics and store in model_stats dictionary\n",
    "        model_stats[name] = {\n",
    "            'F1-Macro': metrics.f1_score(y_test, model_pred, average='macro'),\n",
    "            'F1-Accuracy': metrics.f1_score(y_test, model_pred, average='micro'),\n",
    "            'F1-Weighted': metrics.f1_score(y_test, model_pred, average='weighted'),\n",
    "            'Run-Time': result.best\n",
    "\n",
    "        }\n",
    "\n",
    "    return pd.DataFrame.from_dict(model_stats, orient='index')"
   ]
  },
  {
   "cell_type": "code",
   "execution_count": 23,
   "id": "4c04ba50",
   "metadata": {
    "execution": {
     "iopub.execute_input": "2023-06-23T23:21:34.888340Z",
     "iopub.status.busy": "2023-06-23T23:21:34.887034Z",
     "iopub.status.idle": "2023-06-23T23:28:16.481938Z",
     "shell.execute_reply": "2023-06-23T23:28:16.480822Z"
    },
    "papermill": {
     "duration": 401.616077,
     "end_time": "2023-06-23T23:28:16.484738",
     "exception": false,
     "start_time": "2023-06-23T23:21:34.868661",
     "status": "completed"
    },
    "tags": []
   },
   "outputs": [],
   "source": [
    "performance_result = performance_tester(X_train ,y_train, X_test, y_test, clf_list, clf_names)\n",
    "performance_result = performance_result.sort_values('F1-Weighted', ascending=False)"
   ]
  },
  {
   "cell_type": "code",
   "execution_count": 24,
   "id": "67bd7403",
   "metadata": {
    "execution": {
     "iopub.execute_input": "2023-06-23T23:28:16.520159Z",
     "iopub.status.busy": "2023-06-23T23:28:16.519759Z",
     "iopub.status.idle": "2023-06-23T23:28:16.532558Z",
     "shell.execute_reply": "2023-06-23T23:28:16.531546Z"
    },
    "papermill": {
     "duration": 0.032986,
     "end_time": "2023-06-23T23:28:16.534669",
     "exception": false,
     "start_time": "2023-06-23T23:28:16.501683",
     "status": "completed"
    },
    "tags": []
   },
   "outputs": [
    {
     "data": {
      "text/html": [
       "<div>\n",
       "<style scoped>\n",
       "    .dataframe tbody tr th:only-of-type {\n",
       "        vertical-align: middle;\n",
       "    }\n",
       "\n",
       "    .dataframe tbody tr th {\n",
       "        vertical-align: top;\n",
       "    }\n",
       "\n",
       "    .dataframe thead th {\n",
       "        text-align: right;\n",
       "    }\n",
       "</style>\n",
       "<table border=\"1\" class=\"dataframe\">\n",
       "  <thead>\n",
       "    <tr style=\"text-align: right;\">\n",
       "      <th></th>\n",
       "      <th>F1-Macro</th>\n",
       "      <th>F1-Accuracy</th>\n",
       "      <th>F1-Weighted</th>\n",
       "      <th>Run-Time</th>\n",
       "    </tr>\n",
       "  </thead>\n",
       "  <tbody>\n",
       "    <tr>\n",
       "      <th>RidgeClassifier</th>\n",
       "      <td>0.995577</td>\n",
       "      <td>0.995576</td>\n",
       "      <td>0.995577</td>\n",
       "      <td>28.763383</td>\n",
       "    </tr>\n",
       "    <tr>\n",
       "      <th>MultinomialNB</th>\n",
       "      <td>0.993154</td>\n",
       "      <td>0.993152</td>\n",
       "      <td>0.993154</td>\n",
       "      <td>12.871521</td>\n",
       "    </tr>\n",
       "  </tbody>\n",
       "</table>\n",
       "</div>"
      ],
      "text/plain": [
       "                 F1-Macro  F1-Accuracy  F1-Weighted   Run-Time\n",
       "RidgeClassifier  0.995577     0.995576     0.995577  28.763383\n",
       "MultinomialNB    0.993154     0.993152     0.993154  12.871521"
      ]
     },
     "execution_count": 24,
     "metadata": {},
     "output_type": "execute_result"
    }
   ],
   "source": [
    "performance_result"
   ]
  },
  {
   "cell_type": "code",
   "execution_count": 25,
   "id": "2119ac1f",
   "metadata": {
    "execution": {
     "iopub.execute_input": "2023-06-23T23:28:16.570230Z",
     "iopub.status.busy": "2023-06-23T23:28:16.569856Z",
     "iopub.status.idle": "2023-06-23T23:28:16.575875Z",
     "shell.execute_reply": "2023-06-23T23:28:16.574932Z"
    },
    "papermill": {
     "duration": 0.026362,
     "end_time": "2023-06-23T23:28:16.577883",
     "exception": false,
     "start_time": "2023-06-23T23:28:16.551521",
     "status": "completed"
    },
    "tags": []
   },
   "outputs": [
    {
     "data": {
      "text/plain": [
       "(2, 4)"
      ]
     },
     "execution_count": 25,
     "metadata": {},
     "output_type": "execute_result"
    }
   ],
   "source": [
    "performance_result.shape\n"
   ]
  },
  {
   "cell_type": "code",
   "execution_count": 26,
   "id": "08a4ade4",
   "metadata": {
    "execution": {
     "iopub.execute_input": "2023-06-23T23:28:16.612585Z",
     "iopub.status.busy": "2023-06-23T23:28:16.612029Z",
     "iopub.status.idle": "2023-06-23T23:28:16.616433Z",
     "shell.execute_reply": "2023-06-23T23:28:16.615138Z"
    },
    "papermill": {
     "duration": 0.024676,
     "end_time": "2023-06-23T23:28:16.618723",
     "exception": false,
     "start_time": "2023-06-23T23:28:16.594047",
     "status": "completed"
    },
    "tags": []
   },
   "outputs": [],
   "source": [
    "#p_proxy = performance_result.copy()\n",
    "#p_cols = [col for col in p_proxy.columns != \"Run-Time\"]\n"
   ]
  },
  {
   "cell_type": "markdown",
   "id": "45c9d475",
   "metadata": {
    "papermill": {
     "duration": 0.016113,
     "end_time": "2023-06-23T23:28:16.651671",
     "exception": false,
     "start_time": "2023-06-23T23:28:16.635558",
     "status": "completed"
    },
    "tags": []
   },
   "source": [
    "# Hyperparameter Tuning"
   ]
  },
  {
   "cell_type": "code",
   "execution_count": 27,
   "id": "c7ee8f75",
   "metadata": {
    "execution": {
     "iopub.execute_input": "2023-06-23T23:28:16.686889Z",
     "iopub.status.busy": "2023-06-23T23:28:16.686497Z",
     "iopub.status.idle": "2023-06-23T23:28:16.693837Z",
     "shell.execute_reply": "2023-06-23T23:28:16.692771Z"
    },
    "papermill": {
     "duration": 0.027402,
     "end_time": "2023-06-23T23:28:16.695885",
     "exception": false,
     "start_time": "2023-06-23T23:28:16.668483",
     "status": "completed"
    },
    "tags": []
   },
   "outputs": [],
   "source": [
    "def param_tuner(X_train, y_train, classifiers, clf_name):\n",
    "    best_params = {}\n",
    "\n",
    "    for name, clf in zip(clf_name, classifiers):\n",
    "        model = Pipeline([('tfidf', TfidfVectorizer(max_df=0.9, ngram_range=(1, 5), analyzer='char')),\n",
    "                          ('clf', clf)])\n",
    "        model.fit(X_train, y_train)  # Training\n",
    "\n",
    "        # Get models performing parameters\n",
    "        params = model.get_params()\n",
    "        model_params = {}\n",
    "\n",
    "        for key in params:\n",
    "            if key.startswith(\"clf\"):\n",
    "                if len(key) < 5:\n",
    "                    model_params['model'] = params[key]\n",
    "            else:\n",
    "                model_params[key[5:]] = params[key]\n",
    "        \n",
    "        best_params[name] = model_params\n",
    "    \n",
    "    return best_params"
   ]
  },
  {
   "cell_type": "code",
   "execution_count": 28,
   "id": "37747df3",
   "metadata": {
    "execution": {
     "iopub.execute_input": "2023-06-23T23:28:16.731177Z",
     "iopub.status.busy": "2023-06-23T23:28:16.730175Z",
     "iopub.status.idle": "2023-06-23T23:30:03.264266Z",
     "shell.execute_reply": "2023-06-23T23:30:03.263264Z"
    },
    "papermill": {
     "duration": 106.554886,
     "end_time": "2023-06-23T23:30:03.267067",
     "exception": false,
     "start_time": "2023-06-23T23:28:16.712181",
     "status": "completed"
    },
    "tags": []
   },
   "outputs": [],
   "source": [
    "best_params = param_tuner(X_train, y_train, clf_list, clf_names)"
   ]
  },
  {
   "cell_type": "markdown",
   "id": "3b44ae78",
   "metadata": {
    "papermill": {
     "duration": 0.01615,
     "end_time": "2023-06-23T23:30:03.299926",
     "exception": false,
     "start_time": "2023-06-23T23:30:03.283776",
     "status": "completed"
    },
    "tags": []
   },
   "source": [
    "## Conducting Grid Search Cross Validation\n"
   ]
  },
  {
   "cell_type": "markdown",
   "id": "e8e3d974",
   "metadata": {
    "papermill": {
     "duration": 0.016,
     "end_time": "2023-06-23T23:30:03.332149",
     "exception": false,
     "start_time": "2023-06-23T23:30:03.316149",
     "status": "completed"
    },
    "tags": []
   },
   "source": [
    "### Applying Ridge Classifier"
   ]
  },
  {
   "cell_type": "code",
   "execution_count": 29,
   "id": "72b4ea77",
   "metadata": {
    "execution": {
     "iopub.execute_input": "2023-06-23T23:30:03.366424Z",
     "iopub.status.busy": "2023-06-23T23:30:03.366077Z",
     "iopub.status.idle": "2023-06-23T23:30:03.370324Z",
     "shell.execute_reply": "2023-06-23T23:30:03.369650Z"
    },
    "papermill": {
     "duration": 0.023714,
     "end_time": "2023-06-23T23:30:03.372236",
     "exception": false,
     "start_time": "2023-06-23T23:30:03.348522",
     "status": "completed"
    },
    "tags": []
   },
   "outputs": [],
   "source": [
    "#model\n",
    "rclf = RidgeClassifier()"
   ]
  },
  {
   "cell_type": "code",
   "execution_count": 30,
   "id": "ddcac371",
   "metadata": {
    "execution": {
     "iopub.execute_input": "2023-06-23T23:30:03.406708Z",
     "iopub.status.busy": "2023-06-23T23:30:03.406332Z",
     "iopub.status.idle": "2023-06-23T23:30:32.460890Z",
     "shell.execute_reply": "2023-06-23T23:30:32.459806Z"
    },
    "papermill": {
     "duration": 29.074425,
     "end_time": "2023-06-23T23:30:32.463364",
     "exception": false,
     "start_time": "2023-06-23T23:30:03.388939",
     "status": "completed"
    },
    "tags": []
   },
   "outputs": [],
   "source": [
    "vect = TfidfVectorizer(max_df=0.9, ngram_range=(1, 5), analyzer= 'char')\n",
    "X_train = vect.fit_transform(X_train)\n",
    "X_test = vect.transform(X_test)"
   ]
  },
  {
   "cell_type": "code",
   "execution_count": 31,
   "id": "0abc70cd",
   "metadata": {
    "execution": {
     "iopub.execute_input": "2023-06-23T23:30:32.497553Z",
     "iopub.status.busy": "2023-06-23T23:30:32.497202Z",
     "iopub.status.idle": "2023-06-23T23:30:32.501669Z",
     "shell.execute_reply": "2023-06-23T23:30:32.500732Z"
    },
    "papermill": {
     "duration": 0.023988,
     "end_time": "2023-06-23T23:30:32.503778",
     "exception": false,
     "start_time": "2023-06-23T23:30:32.479790",
     "status": "completed"
    },
    "tags": []
   },
   "outputs": [],
   "source": [
    "stratified_kfold = StratifiedKFold(n_splits=5, shuffle=True, random_state=Const)"
   ]
  },
  {
   "cell_type": "code",
   "execution_count": 32,
   "id": "3ad022d0",
   "metadata": {
    "execution": {
     "iopub.execute_input": "2023-06-23T23:30:32.537413Z",
     "iopub.status.busy": "2023-06-23T23:30:32.537045Z",
     "iopub.status.idle": "2023-06-23T23:30:32.549480Z",
     "shell.execute_reply": "2023-06-23T23:30:32.548590Z"
    },
    "papermill": {
     "duration": 0.03166,
     "end_time": "2023-06-23T23:30:32.551427",
     "exception": false,
     "start_time": "2023-06-23T23:30:32.519767",
     "status": "completed"
    },
    "tags": []
   },
   "outputs": [
    {
     "data": {
      "text/plain": [
       "{'y': None,\n",
       " '': TfidfVectorizer(analyzer='char', max_df=0.9, ngram_range=(1, 5)),\n",
       " 'se': False,\n",
       " 'model': RidgeClassifier(random_state=31),\n",
       " '__analyzer': 'char',\n",
       " '__binary': False,\n",
       " '__decode_error': 'strict',\n",
       " '__dtype': numpy.float64,\n",
       " '__encoding': 'utf-8',\n",
       " '__input': 'content',\n",
       " '__lowercase': True,\n",
       " '__max_df': 0.9,\n",
       " '__max_features': None,\n",
       " '__min_df': 1,\n",
       " '__ngram_range': (1, 5),\n",
       " '__norm': 'l2',\n",
       " '__preprocessor': None,\n",
       " '__smooth_idf': True,\n",
       " '__stop_words': None,\n",
       " '__strip_accents': None,\n",
       " '__sublinear_tf': False,\n",
       " '__token_pattern': '(?u)\\\\b\\\\w\\\\w+\\\\b',\n",
       " '__tokenizer': None,\n",
       " '__use_idf': True,\n",
       " '__vocabulary': None}"
      ]
     },
     "execution_count": 32,
     "metadata": {},
     "output_type": "execute_result"
    }
   ],
   "source": [
    "best_params['RidgeClassifier']"
   ]
  },
  {
   "cell_type": "code",
   "execution_count": 33,
   "id": "d190d9b5",
   "metadata": {
    "execution": {
     "iopub.execute_input": "2023-06-23T23:30:32.585840Z",
     "iopub.status.busy": "2023-06-23T23:30:32.585187Z",
     "iopub.status.idle": "2023-06-23T23:30:32.591221Z",
     "shell.execute_reply": "2023-06-23T23:30:32.590271Z"
    },
    "papermill": {
     "duration": 0.025709,
     "end_time": "2023-06-23T23:30:32.593463",
     "exception": false,
     "start_time": "2023-06-23T23:30:32.567754",
     "status": "completed"
    },
    "tags": []
   },
   "outputs": [],
   "source": [
    "alpha = list(np.linspace(0.1,0.5, 5))\n",
    "param_grid = dict(alpha=alpha)\n",
    "grid_search = GridSearchCV(estimator = rclf,\n",
    "                           param_grid=param_grid,\n",
    "                           scoring='f1_weighted',\n",
    "                           cv=stratified_kfold,\n",
    "                           error_score=0,\n",
    "                           n_jobs=-1)"
   ]
  },
  {
   "cell_type": "code",
   "execution_count": 34,
   "id": "49f54e00",
   "metadata": {
    "execution": {
     "iopub.execute_input": "2023-06-23T23:30:32.628539Z",
     "iopub.status.busy": "2023-06-23T23:30:32.627914Z",
     "iopub.status.idle": "2023-06-23T23:42:00.336636Z",
     "shell.execute_reply": "2023-06-23T23:42:00.335099Z"
    },
    "papermill": {
     "duration": 687.72934,
     "end_time": "2023-06-23T23:42:00.339321",
     "exception": false,
     "start_time": "2023-06-23T23:30:32.609981",
     "status": "completed"
    },
    "tags": []
   },
   "outputs": [],
   "source": [
    "grid_search.fit(X_train, y_train)\n",
    "rclf_prediction = grid_search.predict(X_test)\n",
    "rclf_cv_score = grid_search.best_score_\n",
    "rclf_test_score = grid_search.score(X_test, y_test)"
   ]
  },
  {
   "cell_type": "code",
   "execution_count": 35,
   "id": "10c636e7",
   "metadata": {
    "execution": {
     "iopub.execute_input": "2023-06-23T23:42:00.374463Z",
     "iopub.status.busy": "2023-06-23T23:42:00.374051Z",
     "iopub.status.idle": "2023-06-23T23:42:00.382715Z",
     "shell.execute_reply": "2023-06-23T23:42:00.381684Z"
    },
    "papermill": {
     "duration": 0.029188,
     "end_time": "2023-06-23T23:42:00.385238",
     "exception": false,
     "start_time": "2023-06-23T23:42:00.356050",
     "status": "completed"
    },
    "tags": []
   },
   "outputs": [
    {
     "name": "stdout",
     "output_type": "stream",
     "text": [
      "Ridge Classifier Cross-Validation Score: 0.9992731224217275\n",
      "Ridge Test score: 0.9990908480065919\n"
     ]
    },
    {
     "data": {
      "text/html": [
       "<style>#sk-container-id-1 {color: black;background-color: white;}#sk-container-id-1 pre{padding: 0;}#sk-container-id-1 div.sk-toggleable {background-color: white;}#sk-container-id-1 label.sk-toggleable__label {cursor: pointer;display: block;width: 100%;margin-bottom: 0;padding: 0.3em;box-sizing: border-box;text-align: center;}#sk-container-id-1 label.sk-toggleable__label-arrow:before {content: \"▸\";float: left;margin-right: 0.25em;color: #696969;}#sk-container-id-1 label.sk-toggleable__label-arrow:hover:before {color: black;}#sk-container-id-1 div.sk-estimator:hover label.sk-toggleable__label-arrow:before {color: black;}#sk-container-id-1 div.sk-toggleable__content {max-height: 0;max-width: 0;overflow: hidden;text-align: left;background-color: #f0f8ff;}#sk-container-id-1 div.sk-toggleable__content pre {margin: 0.2em;color: black;border-radius: 0.25em;background-color: #f0f8ff;}#sk-container-id-1 input.sk-toggleable__control:checked~div.sk-toggleable__content {max-height: 200px;max-width: 100%;overflow: auto;}#sk-container-id-1 input.sk-toggleable__control:checked~label.sk-toggleable__label-arrow:before {content: \"▾\";}#sk-container-id-1 div.sk-estimator input.sk-toggleable__control:checked~label.sk-toggleable__label {background-color: #d4ebff;}#sk-container-id-1 div.sk-label input.sk-toggleable__control:checked~label.sk-toggleable__label {background-color: #d4ebff;}#sk-container-id-1 input.sk-hidden--visually {border: 0;clip: rect(1px 1px 1px 1px);clip: rect(1px, 1px, 1px, 1px);height: 1px;margin: -1px;overflow: hidden;padding: 0;position: absolute;width: 1px;}#sk-container-id-1 div.sk-estimator {font-family: monospace;background-color: #f0f8ff;border: 1px dotted black;border-radius: 0.25em;box-sizing: border-box;margin-bottom: 0.5em;}#sk-container-id-1 div.sk-estimator:hover {background-color: #d4ebff;}#sk-container-id-1 div.sk-parallel-item::after {content: \"\";width: 100%;border-bottom: 1px solid gray;flex-grow: 1;}#sk-container-id-1 div.sk-label:hover label.sk-toggleable__label {background-color: #d4ebff;}#sk-container-id-1 div.sk-serial::before {content: \"\";position: absolute;border-left: 1px solid gray;box-sizing: border-box;top: 0;bottom: 0;left: 50%;z-index: 0;}#sk-container-id-1 div.sk-serial {display: flex;flex-direction: column;align-items: center;background-color: white;padding-right: 0.2em;padding-left: 0.2em;position: relative;}#sk-container-id-1 div.sk-item {position: relative;z-index: 1;}#sk-container-id-1 div.sk-parallel {display: flex;align-items: stretch;justify-content: center;background-color: white;position: relative;}#sk-container-id-1 div.sk-item::before, #sk-container-id-1 div.sk-parallel-item::before {content: \"\";position: absolute;border-left: 1px solid gray;box-sizing: border-box;top: 0;bottom: 0;left: 50%;z-index: -1;}#sk-container-id-1 div.sk-parallel-item {display: flex;flex-direction: column;z-index: 1;position: relative;background-color: white;}#sk-container-id-1 div.sk-parallel-item:first-child::after {align-self: flex-end;width: 50%;}#sk-container-id-1 div.sk-parallel-item:last-child::after {align-self: flex-start;width: 50%;}#sk-container-id-1 div.sk-parallel-item:only-child::after {width: 0;}#sk-container-id-1 div.sk-dashed-wrapped {border: 1px dashed gray;margin: 0 0.4em 0.5em 0.4em;box-sizing: border-box;padding-bottom: 0.4em;background-color: white;}#sk-container-id-1 div.sk-label label {font-family: monospace;font-weight: bold;display: inline-block;line-height: 1.2em;}#sk-container-id-1 div.sk-label-container {text-align: center;}#sk-container-id-1 div.sk-container {/* jupyter's `normalize.less` sets `[hidden] { display: none; }` but bootstrap.min.css set `[hidden] { display: none !important; }` so we also need the `!important` here to be able to override the default hidden behavior on the sphinx rendered scikit-learn.org. See: https://github.com/scikit-learn/scikit-learn/issues/21755 */display: inline-block !important;position: relative;}#sk-container-id-1 div.sk-text-repr-fallback {display: none;}</style><div id=\"sk-container-id-1\" class=\"sk-top-container\"><div class=\"sk-text-repr-fallback\"><pre>RidgeClassifier(alpha=0.30000000000000004)</pre><b>In a Jupyter environment, please rerun this cell to show the HTML representation or trust the notebook. <br />On GitHub, the HTML representation is unable to render, please try loading this page with nbviewer.org.</b></div><div class=\"sk-container\" hidden><div class=\"sk-item\"><div class=\"sk-estimator sk-toggleable\"><input class=\"sk-toggleable__control sk-hidden--visually\" id=\"sk-estimator-id-1\" type=\"checkbox\" checked><label for=\"sk-estimator-id-1\" class=\"sk-toggleable__label sk-toggleable__label-arrow\">RidgeClassifier</label><div class=\"sk-toggleable__content\"><pre>RidgeClassifier(alpha=0.30000000000000004)</pre></div></div></div></div></div>"
      ],
      "text/plain": [
       "RidgeClassifier(alpha=0.30000000000000004)"
      ]
     },
     "execution_count": 35,
     "metadata": {},
     "output_type": "execute_result"
    }
   ],
   "source": [
    "print(f'Ridge Classifier Cross-Validation Score: {rclf_cv_score}')\n",
    "print(f'Ridge Test score: {rclf_test_score}')\n",
    "grid_search.best_params_    \n",
    "grid_search.best_estimator_"
   ]
  },
  {
   "cell_type": "markdown",
   "id": "abecced3",
   "metadata": {
    "papermill": {
     "duration": 0.016618,
     "end_time": "2023-06-23T23:42:00.419160",
     "exception": false,
     "start_time": "2023-06-23T23:42:00.402542",
     "status": "completed"
    },
    "tags": []
   },
   "source": [
    "### Applying Multinomial Naïve Bayes"
   ]
  },
  {
   "cell_type": "code",
   "execution_count": 36,
   "id": "c9b8e19f",
   "metadata": {
    "execution": {
     "iopub.execute_input": "2023-06-23T23:42:00.454535Z",
     "iopub.status.busy": "2023-06-23T23:42:00.453782Z",
     "iopub.status.idle": "2023-06-23T23:42:00.457695Z",
     "shell.execute_reply": "2023-06-23T23:42:00.456991Z"
    },
    "papermill": {
     "duration": 0.023685,
     "end_time": "2023-06-23T23:42:00.459653",
     "exception": false,
     "start_time": "2023-06-23T23:42:00.435968",
     "status": "completed"
    },
    "tags": []
   },
   "outputs": [],
   "source": [
    "#model\n",
    "mnbclf = MultinomialNB()"
   ]
  },
  {
   "cell_type": "code",
   "execution_count": 37,
   "id": "4216b5ca",
   "metadata": {
    "execution": {
     "iopub.execute_input": "2023-06-23T23:42:00.494488Z",
     "iopub.status.busy": "2023-06-23T23:42:00.493930Z",
     "iopub.status.idle": "2023-06-23T23:42:00.500933Z",
     "shell.execute_reply": "2023-06-23T23:42:00.500080Z"
    },
    "papermill": {
     "duration": 0.026806,
     "end_time": "2023-06-23T23:42:00.503014",
     "exception": false,
     "start_time": "2023-06-23T23:42:00.476208",
     "status": "completed"
    },
    "tags": []
   },
   "outputs": [
    {
     "data": {
      "text/plain": [
       "{'y': None,\n",
       " '': TfidfVectorizer(analyzer='char', max_df=0.9, ngram_range=(1, 5)),\n",
       " 'se': False,\n",
       " 'model': MultinomialNB(),\n",
       " '__analyzer': 'char',\n",
       " '__binary': False,\n",
       " '__decode_error': 'strict',\n",
       " '__dtype': numpy.float64,\n",
       " '__encoding': 'utf-8',\n",
       " '__input': 'content',\n",
       " '__lowercase': True,\n",
       " '__max_df': 0.9,\n",
       " '__max_features': None,\n",
       " '__min_df': 1,\n",
       " '__ngram_range': (1, 5),\n",
       " '__norm': 'l2',\n",
       " '__preprocessor': None,\n",
       " '__smooth_idf': True,\n",
       " '__stop_words': None,\n",
       " '__strip_accents': None,\n",
       " '__sublinear_tf': False,\n",
       " '__token_pattern': '(?u)\\\\b\\\\w\\\\w+\\\\b',\n",
       " '__tokenizer': None,\n",
       " '__use_idf': True,\n",
       " '__vocabulary': None}"
      ]
     },
     "execution_count": 37,
     "metadata": {},
     "output_type": "execute_result"
    }
   ],
   "source": [
    "best_params['MultinomialNB']"
   ]
  },
  {
   "cell_type": "code",
   "execution_count": 38,
   "id": "dcb58c8b",
   "metadata": {
    "execution": {
     "iopub.execute_input": "2023-06-23T23:42:00.538889Z",
     "iopub.status.busy": "2023-06-23T23:42:00.538515Z",
     "iopub.status.idle": "2023-06-23T23:42:00.543805Z",
     "shell.execute_reply": "2023-06-23T23:42:00.542780Z"
    },
    "papermill": {
     "duration": 0.025823,
     "end_time": "2023-06-23T23:42:00.545760",
     "exception": false,
     "start_time": "2023-06-23T23:42:00.519937",
     "status": "completed"
    },
    "tags": []
   },
   "outputs": [],
   "source": [
    "alpha = list(np.linspace(0.1,0.01,5))\n",
    "param_grid = dict(alpha=alpha)\n",
    "grid_search = GridSearchCV(estimator= mnbclf,\n",
    "                           param_grid=param_grid,\n",
    "                           scoring='f1_weighted',\n",
    "                           cv=stratified_kfold,\n",
    "                           error_score=0,\n",
    "                           n_jobs=-1)"
   ]
  },
  {
   "cell_type": "code",
   "execution_count": 39,
   "id": "b93218d6",
   "metadata": {
    "execution": {
     "iopub.execute_input": "2023-06-23T23:42:00.581052Z",
     "iopub.status.busy": "2023-06-23T23:42:00.580695Z",
     "iopub.status.idle": "2023-06-23T23:42:08.337024Z",
     "shell.execute_reply": "2023-06-23T23:42:08.335991Z"
    },
    "papermill": {
     "duration": 7.776928,
     "end_time": "2023-06-23T23:42:08.339525",
     "exception": false,
     "start_time": "2023-06-23T23:42:00.562597",
     "status": "completed"
    },
    "tags": []
   },
   "outputs": [],
   "source": [
    "grid_search.fit(X_train, y_train)\n",
    "mnbclf_prediction = grid_search.predict(X_test)\n",
    "mnbclf_cv_score = grid_search.best_score_\n",
    "mnbclf_test_score = grid_search.score(X_test, y_test)"
   ]
  },
  {
   "cell_type": "code",
   "execution_count": 40,
   "id": "078731aa",
   "metadata": {
    "execution": {
     "iopub.execute_input": "2023-06-23T23:42:08.376395Z",
     "iopub.status.busy": "2023-06-23T23:42:08.376006Z",
     "iopub.status.idle": "2023-06-23T23:42:08.384234Z",
     "shell.execute_reply": "2023-06-23T23:42:08.383272Z"
    },
    "papermill": {
     "duration": 0.029747,
     "end_time": "2023-06-23T23:42:08.386445",
     "exception": false,
     "start_time": "2023-06-23T23:42:08.356698",
     "status": "completed"
    },
    "tags": []
   },
   "outputs": [
    {
     "name": "stdout",
     "output_type": "stream",
     "text": [
      "Multinomial Naive Bayes Cross-Validation Score: 0.9997576755911808\n",
      "Test score: 0.9995150703903073\n"
     ]
    },
    {
     "data": {
      "text/html": [
       "<style>#sk-container-id-2 {color: black;background-color: white;}#sk-container-id-2 pre{padding: 0;}#sk-container-id-2 div.sk-toggleable {background-color: white;}#sk-container-id-2 label.sk-toggleable__label {cursor: pointer;display: block;width: 100%;margin-bottom: 0;padding: 0.3em;box-sizing: border-box;text-align: center;}#sk-container-id-2 label.sk-toggleable__label-arrow:before {content: \"▸\";float: left;margin-right: 0.25em;color: #696969;}#sk-container-id-2 label.sk-toggleable__label-arrow:hover:before {color: black;}#sk-container-id-2 div.sk-estimator:hover label.sk-toggleable__label-arrow:before {color: black;}#sk-container-id-2 div.sk-toggleable__content {max-height: 0;max-width: 0;overflow: hidden;text-align: left;background-color: #f0f8ff;}#sk-container-id-2 div.sk-toggleable__content pre {margin: 0.2em;color: black;border-radius: 0.25em;background-color: #f0f8ff;}#sk-container-id-2 input.sk-toggleable__control:checked~div.sk-toggleable__content {max-height: 200px;max-width: 100%;overflow: auto;}#sk-container-id-2 input.sk-toggleable__control:checked~label.sk-toggleable__label-arrow:before {content: \"▾\";}#sk-container-id-2 div.sk-estimator input.sk-toggleable__control:checked~label.sk-toggleable__label {background-color: #d4ebff;}#sk-container-id-2 div.sk-label input.sk-toggleable__control:checked~label.sk-toggleable__label {background-color: #d4ebff;}#sk-container-id-2 input.sk-hidden--visually {border: 0;clip: rect(1px 1px 1px 1px);clip: rect(1px, 1px, 1px, 1px);height: 1px;margin: -1px;overflow: hidden;padding: 0;position: absolute;width: 1px;}#sk-container-id-2 div.sk-estimator {font-family: monospace;background-color: #f0f8ff;border: 1px dotted black;border-radius: 0.25em;box-sizing: border-box;margin-bottom: 0.5em;}#sk-container-id-2 div.sk-estimator:hover {background-color: #d4ebff;}#sk-container-id-2 div.sk-parallel-item::after {content: \"\";width: 100%;border-bottom: 1px solid gray;flex-grow: 1;}#sk-container-id-2 div.sk-label:hover label.sk-toggleable__label {background-color: #d4ebff;}#sk-container-id-2 div.sk-serial::before {content: \"\";position: absolute;border-left: 1px solid gray;box-sizing: border-box;top: 0;bottom: 0;left: 50%;z-index: 0;}#sk-container-id-2 div.sk-serial {display: flex;flex-direction: column;align-items: center;background-color: white;padding-right: 0.2em;padding-left: 0.2em;position: relative;}#sk-container-id-2 div.sk-item {position: relative;z-index: 1;}#sk-container-id-2 div.sk-parallel {display: flex;align-items: stretch;justify-content: center;background-color: white;position: relative;}#sk-container-id-2 div.sk-item::before, #sk-container-id-2 div.sk-parallel-item::before {content: \"\";position: absolute;border-left: 1px solid gray;box-sizing: border-box;top: 0;bottom: 0;left: 50%;z-index: -1;}#sk-container-id-2 div.sk-parallel-item {display: flex;flex-direction: column;z-index: 1;position: relative;background-color: white;}#sk-container-id-2 div.sk-parallel-item:first-child::after {align-self: flex-end;width: 50%;}#sk-container-id-2 div.sk-parallel-item:last-child::after {align-self: flex-start;width: 50%;}#sk-container-id-2 div.sk-parallel-item:only-child::after {width: 0;}#sk-container-id-2 div.sk-dashed-wrapped {border: 1px dashed gray;margin: 0 0.4em 0.5em 0.4em;box-sizing: border-box;padding-bottom: 0.4em;background-color: white;}#sk-container-id-2 div.sk-label label {font-family: monospace;font-weight: bold;display: inline-block;line-height: 1.2em;}#sk-container-id-2 div.sk-label-container {text-align: center;}#sk-container-id-2 div.sk-container {/* jupyter's `normalize.less` sets `[hidden] { display: none; }` but bootstrap.min.css set `[hidden] { display: none !important; }` so we also need the `!important` here to be able to override the default hidden behavior on the sphinx rendered scikit-learn.org. See: https://github.com/scikit-learn/scikit-learn/issues/21755 */display: inline-block !important;position: relative;}#sk-container-id-2 div.sk-text-repr-fallback {display: none;}</style><div id=\"sk-container-id-2\" class=\"sk-top-container\"><div class=\"sk-text-repr-fallback\"><pre>MultinomialNB(alpha=0.1)</pre><b>In a Jupyter environment, please rerun this cell to show the HTML representation or trust the notebook. <br />On GitHub, the HTML representation is unable to render, please try loading this page with nbviewer.org.</b></div><div class=\"sk-container\" hidden><div class=\"sk-item\"><div class=\"sk-estimator sk-toggleable\"><input class=\"sk-toggleable__control sk-hidden--visually\" id=\"sk-estimator-id-2\" type=\"checkbox\" checked><label for=\"sk-estimator-id-2\" class=\"sk-toggleable__label sk-toggleable__label-arrow\">MultinomialNB</label><div class=\"sk-toggleable__content\"><pre>MultinomialNB(alpha=0.1)</pre></div></div></div></div></div>"
      ],
      "text/plain": [
       "MultinomialNB(alpha=0.1)"
      ]
     },
     "execution_count": 40,
     "metadata": {},
     "output_type": "execute_result"
    }
   ],
   "source": [
    "print(f'Multinomial Naive Bayes Cross-Validation Score: {mnbclf_cv_score}')\n",
    "print(f'Test score: {mnbclf_test_score}')\n",
    "grid_search.best_params_    \n",
    "grid_search.best_estimator_"
   ]
  },
  {
   "cell_type": "markdown",
   "id": "a1d8d35e",
   "metadata": {
    "papermill": {
     "duration": 0.016947,
     "end_time": "2023-06-23T23:42:08.420448",
     "exception": false,
     "start_time": "2023-06-23T23:42:08.403501",
     "status": "completed"
    },
    "tags": []
   },
   "source": [
    "### Implementing Classifier Stacks"
   ]
  },
  {
   "cell_type": "code",
   "execution_count": 41,
   "id": "a3f04232",
   "metadata": {
    "execution": {
     "iopub.execute_input": "2023-06-23T23:42:08.456248Z",
     "iopub.status.busy": "2023-06-23T23:42:08.455884Z",
     "iopub.status.idle": "2023-06-23T23:42:08.737519Z",
     "shell.execute_reply": "2023-06-23T23:42:08.736460Z"
    },
    "papermill": {
     "duration": 0.302575,
     "end_time": "2023-06-23T23:42:08.740017",
     "exception": false,
     "start_time": "2023-06-23T23:42:08.437442",
     "status": "completed"
    },
    "tags": []
   },
   "outputs": [],
   "source": [
    "from sklearn.ensemble import StackingClassifier\n",
    "from sklearn.pipeline import make_pipeline"
   ]
  },
  {
   "cell_type": "code",
   "execution_count": 42,
   "id": "b0c096e1",
   "metadata": {
    "execution": {
     "iopub.execute_input": "2023-06-23T23:42:08.775932Z",
     "iopub.status.busy": "2023-06-23T23:42:08.775521Z",
     "iopub.status.idle": "2023-06-23T23:42:11.207629Z",
     "shell.execute_reply": "2023-06-23T23:42:11.206583Z"
    },
    "papermill": {
     "duration": 2.452444,
     "end_time": "2023-06-23T23:42:11.209782",
     "exception": false,
     "start_time": "2023-06-23T23:42:08.757338",
     "status": "completed"
    },
    "tags": []
   },
   "outputs": [
    {
     "data": {
      "text/html": [
       "<div>\n",
       "<style scoped>\n",
       "    .dataframe tbody tr th:only-of-type {\n",
       "        vertical-align: middle;\n",
       "    }\n",
       "\n",
       "    .dataframe tbody tr th {\n",
       "        vertical-align: top;\n",
       "    }\n",
       "\n",
       "    .dataframe thead th {\n",
       "        text-align: right;\n",
       "    }\n",
       "</style>\n",
       "<table border=\"1\" class=\"dataframe\">\n",
       "  <thead>\n",
       "    <tr style=\"text-align: right;\">\n",
       "      <th></th>\n",
       "      <th>lang_id</th>\n",
       "      <th>text</th>\n",
       "      <th>clean</th>\n",
       "    </tr>\n",
       "  </thead>\n",
       "  <tbody>\n",
       "    <tr>\n",
       "      <th>0</th>\n",
       "      <td>xho</td>\n",
       "      <td>umgaqo-siseko wenza amalungiselelo kumaziko ax...</td>\n",
       "      <td>umgaqo siseko wenza amalungiselelo kumaziko ax...</td>\n",
       "    </tr>\n",
       "    <tr>\n",
       "      <th>1</th>\n",
       "      <td>xho</td>\n",
       "      <td>i-dha iya kuba nobulumko bokubeka umsebenzi na...</td>\n",
       "      <td>dha iya kuba nobulumko bokubeka umsebenzi naph...</td>\n",
       "    </tr>\n",
       "    <tr>\n",
       "      <th>2</th>\n",
       "      <td>eng</td>\n",
       "      <td>the province of kwazulu-natal department of tr...</td>\n",
       "      <td>province kwazulu natal department transport in...</td>\n",
       "    </tr>\n",
       "    <tr>\n",
       "      <th>3</th>\n",
       "      <td>nso</td>\n",
       "      <td>o netefatša gore o ba file dilo ka moka tše le...</td>\n",
       "      <td>netefata gore ba file dilo ka moka te le dumel...</td>\n",
       "    </tr>\n",
       "    <tr>\n",
       "      <th>4</th>\n",
       "      <td>ven</td>\n",
       "      <td>khomishini ya ndinganyiso ya mbeu yo ewa maana...</td>\n",
       "      <td>khomishini ya ndinganyiso ya mbeu yo ewa maana...</td>\n",
       "    </tr>\n",
       "  </tbody>\n",
       "</table>\n",
       "</div>"
      ],
      "text/plain": [
       "  lang_id                                               text  \\\n",
       "0     xho  umgaqo-siseko wenza amalungiselelo kumaziko ax...   \n",
       "1     xho  i-dha iya kuba nobulumko bokubeka umsebenzi na...   \n",
       "2     eng  the province of kwazulu-natal department of tr...   \n",
       "3     nso  o netefatša gore o ba file dilo ka moka tše le...   \n",
       "4     ven  khomishini ya ndinganyiso ya mbeu yo ewa maana...   \n",
       "\n",
       "                                               clean  \n",
       "0  umgaqo siseko wenza amalungiselelo kumaziko ax...  \n",
       "1  dha iya kuba nobulumko bokubeka umsebenzi naph...  \n",
       "2  province kwazulu natal department transport in...  \n",
       "3  netefata gore ba file dilo ka moka te le dumel...  \n",
       "4  khomishini ya ndinganyiso ya mbeu yo ewa maana...  "
      ]
     },
     "execution_count": 42,
     "metadata": {},
     "output_type": "execute_result"
    }
   ],
   "source": [
    "df['clean'] = df[ft].apply(clean)\n",
    "df.head()"
   ]
  },
  {
   "cell_type": "code",
   "execution_count": 43,
   "id": "f544c2ea",
   "metadata": {
    "execution": {
     "iopub.execute_input": "2023-06-23T23:42:11.246458Z",
     "iopub.status.busy": "2023-06-23T23:42:11.246077Z",
     "iopub.status.idle": "2023-06-23T23:42:11.258939Z",
     "shell.execute_reply": "2023-06-23T23:42:11.257834Z"
    },
    "papermill": {
     "duration": 0.033725,
     "end_time": "2023-06-23T23:42:11.260917",
     "exception": false,
     "start_time": "2023-06-23T23:42:11.227192",
     "status": "completed"
    },
    "tags": []
   },
   "outputs": [],
   "source": [
    "X = df['clean']\n",
    "y = df['lang_id']\n",
    "\n",
    "y = encoder.fit_transform(y)\n",
    "\n"
   ]
  },
  {
   "cell_type": "code",
   "execution_count": 44,
   "id": "4708d516",
   "metadata": {
    "execution": {
     "iopub.execute_input": "2023-06-23T23:42:11.297385Z",
     "iopub.status.busy": "2023-06-23T23:42:11.296459Z",
     "iopub.status.idle": "2023-06-23T23:42:11.324329Z",
     "shell.execute_reply": "2023-06-23T23:42:11.323278Z"
    },
    "papermill": {
     "duration": 0.048465,
     "end_time": "2023-06-23T23:42:11.326671",
     "exception": false,
     "start_time": "2023-06-23T23:42:11.278206",
     "status": "completed"
    },
    "tags": []
   },
   "outputs": [],
   "source": [
    "X_train , X_test , y_train , y_test = train_test_split(X, y,  stratify=y, test_size=0.4, random_state =1)"
   ]
  },
  {
   "cell_type": "code",
   "execution_count": 45,
   "id": "32120825",
   "metadata": {
    "execution": {
     "iopub.execute_input": "2023-06-23T23:42:11.362630Z",
     "iopub.status.busy": "2023-06-23T23:42:11.362250Z",
     "iopub.status.idle": "2023-06-23T23:42:38.644084Z",
     "shell.execute_reply": "2023-06-23T23:42:38.643069Z"
    },
    "papermill": {
     "duration": 27.302526,
     "end_time": "2023-06-23T23:42:38.646487",
     "exception": false,
     "start_time": "2023-06-23T23:42:11.343961",
     "status": "completed"
    },
    "tags": []
   },
   "outputs": [],
   "source": [
    "vect = TfidfVectorizer( max_df=0.9, ngram_range=(1, 5), analyzer= 'char')\n",
    "X_train = vect.fit_transform(X_train)\n",
    "X_test = vect.transform(X_test)"
   ]
  },
  {
   "cell_type": "code",
   "execution_count": 46,
   "id": "f9cdbd42",
   "metadata": {
    "execution": {
     "iopub.execute_input": "2023-06-23T23:42:38.682985Z",
     "iopub.status.busy": "2023-06-23T23:42:38.682587Z",
     "iopub.status.idle": "2023-06-23T23:42:38.687380Z",
     "shell.execute_reply": "2023-06-23T23:42:38.686448Z"
    },
    "papermill": {
     "duration": 0.025318,
     "end_time": "2023-06-23T23:42:38.689418",
     "exception": false,
     "start_time": "2023-06-23T23:42:38.664100",
     "status": "completed"
    },
    "tags": []
   },
   "outputs": [],
   "source": [
    "multiNB1 = MultinomialNB(alpha=0.1)\n",
    "\n",
    "estimators1 = [('multiNB1', multiNB1)]\n",
    "final_est = RidgeClassifier(alpha=0.3)"
   ]
  },
  {
   "cell_type": "code",
   "execution_count": 47,
   "id": "fe1236c5",
   "metadata": {
    "execution": {
     "iopub.execute_input": "2023-06-23T23:42:38.726118Z",
     "iopub.status.busy": "2023-06-23T23:42:38.725177Z",
     "iopub.status.idle": "2023-06-23T23:42:38.730288Z",
     "shell.execute_reply": "2023-06-23T23:42:38.729496Z"
    },
    "papermill": {
     "duration": 0.025603,
     "end_time": "2023-06-23T23:42:38.732293",
     "exception": false,
     "start_time": "2023-06-23T23:42:38.706690",
     "status": "completed"
    },
    "tags": []
   },
   "outputs": [],
   "source": [
    "clf_stack1 = StackingClassifier(estimators = estimators1,\n",
    "                           final_estimator = final_est,\n",
    "                           passthrough = True)"
   ]
  },
  {
   "cell_type": "code",
   "execution_count": 48,
   "id": "82fe68bc",
   "metadata": {
    "execution": {
     "iopub.execute_input": "2023-06-23T23:42:38.768884Z",
     "iopub.status.busy": "2023-06-23T23:42:38.768140Z",
     "iopub.status.idle": "2023-06-23T23:44:57.362056Z",
     "shell.execute_reply": "2023-06-23T23:44:57.360988Z"
    },
    "papermill": {
     "duration": 138.645442,
     "end_time": "2023-06-23T23:44:57.395141",
     "exception": false,
     "start_time": "2023-06-23T23:42:38.749699",
     "status": "completed"
    },
    "tags": []
   },
   "outputs": [
    {
     "data": {
      "text/html": [
       "<style>#sk-container-id-3 {color: black;background-color: white;}#sk-container-id-3 pre{padding: 0;}#sk-container-id-3 div.sk-toggleable {background-color: white;}#sk-container-id-3 label.sk-toggleable__label {cursor: pointer;display: block;width: 100%;margin-bottom: 0;padding: 0.3em;box-sizing: border-box;text-align: center;}#sk-container-id-3 label.sk-toggleable__label-arrow:before {content: \"▸\";float: left;margin-right: 0.25em;color: #696969;}#sk-container-id-3 label.sk-toggleable__label-arrow:hover:before {color: black;}#sk-container-id-3 div.sk-estimator:hover label.sk-toggleable__label-arrow:before {color: black;}#sk-container-id-3 div.sk-toggleable__content {max-height: 0;max-width: 0;overflow: hidden;text-align: left;background-color: #f0f8ff;}#sk-container-id-3 div.sk-toggleable__content pre {margin: 0.2em;color: black;border-radius: 0.25em;background-color: #f0f8ff;}#sk-container-id-3 input.sk-toggleable__control:checked~div.sk-toggleable__content {max-height: 200px;max-width: 100%;overflow: auto;}#sk-container-id-3 input.sk-toggleable__control:checked~label.sk-toggleable__label-arrow:before {content: \"▾\";}#sk-container-id-3 div.sk-estimator input.sk-toggleable__control:checked~label.sk-toggleable__label {background-color: #d4ebff;}#sk-container-id-3 div.sk-label input.sk-toggleable__control:checked~label.sk-toggleable__label {background-color: #d4ebff;}#sk-container-id-3 input.sk-hidden--visually {border: 0;clip: rect(1px 1px 1px 1px);clip: rect(1px, 1px, 1px, 1px);height: 1px;margin: -1px;overflow: hidden;padding: 0;position: absolute;width: 1px;}#sk-container-id-3 div.sk-estimator {font-family: monospace;background-color: #f0f8ff;border: 1px dotted black;border-radius: 0.25em;box-sizing: border-box;margin-bottom: 0.5em;}#sk-container-id-3 div.sk-estimator:hover {background-color: #d4ebff;}#sk-container-id-3 div.sk-parallel-item::after {content: \"\";width: 100%;border-bottom: 1px solid gray;flex-grow: 1;}#sk-container-id-3 div.sk-label:hover label.sk-toggleable__label {background-color: #d4ebff;}#sk-container-id-3 div.sk-serial::before {content: \"\";position: absolute;border-left: 1px solid gray;box-sizing: border-box;top: 0;bottom: 0;left: 50%;z-index: 0;}#sk-container-id-3 div.sk-serial {display: flex;flex-direction: column;align-items: center;background-color: white;padding-right: 0.2em;padding-left: 0.2em;position: relative;}#sk-container-id-3 div.sk-item {position: relative;z-index: 1;}#sk-container-id-3 div.sk-parallel {display: flex;align-items: stretch;justify-content: center;background-color: white;position: relative;}#sk-container-id-3 div.sk-item::before, #sk-container-id-3 div.sk-parallel-item::before {content: \"\";position: absolute;border-left: 1px solid gray;box-sizing: border-box;top: 0;bottom: 0;left: 50%;z-index: -1;}#sk-container-id-3 div.sk-parallel-item {display: flex;flex-direction: column;z-index: 1;position: relative;background-color: white;}#sk-container-id-3 div.sk-parallel-item:first-child::after {align-self: flex-end;width: 50%;}#sk-container-id-3 div.sk-parallel-item:last-child::after {align-self: flex-start;width: 50%;}#sk-container-id-3 div.sk-parallel-item:only-child::after {width: 0;}#sk-container-id-3 div.sk-dashed-wrapped {border: 1px dashed gray;margin: 0 0.4em 0.5em 0.4em;box-sizing: border-box;padding-bottom: 0.4em;background-color: white;}#sk-container-id-3 div.sk-label label {font-family: monospace;font-weight: bold;display: inline-block;line-height: 1.2em;}#sk-container-id-3 div.sk-label-container {text-align: center;}#sk-container-id-3 div.sk-container {/* jupyter's `normalize.less` sets `[hidden] { display: none; }` but bootstrap.min.css set `[hidden] { display: none !important; }` so we also need the `!important` here to be able to override the default hidden behavior on the sphinx rendered scikit-learn.org. See: https://github.com/scikit-learn/scikit-learn/issues/21755 */display: inline-block !important;position: relative;}#sk-container-id-3 div.sk-text-repr-fallback {display: none;}</style><div id=\"sk-container-id-3\" class=\"sk-top-container\"><div class=\"sk-text-repr-fallback\"><pre>StackingClassifier(estimators=[(&#x27;multiNB1&#x27;, MultinomialNB(alpha=0.1))],\n",
       "                   final_estimator=RidgeClassifier(alpha=0.3),\n",
       "                   passthrough=True)</pre><b>In a Jupyter environment, please rerun this cell to show the HTML representation or trust the notebook. <br />On GitHub, the HTML representation is unable to render, please try loading this page with nbviewer.org.</b></div><div class=\"sk-container\" hidden><div class=\"sk-item sk-dashed-wrapped\"><div class=\"sk-label-container\"><div class=\"sk-label sk-toggleable\"><input class=\"sk-toggleable__control sk-hidden--visually\" id=\"sk-estimator-id-3\" type=\"checkbox\" ><label for=\"sk-estimator-id-3\" class=\"sk-toggleable__label sk-toggleable__label-arrow\">StackingClassifier</label><div class=\"sk-toggleable__content\"><pre>StackingClassifier(estimators=[(&#x27;multiNB1&#x27;, MultinomialNB(alpha=0.1))],\n",
       "                   final_estimator=RidgeClassifier(alpha=0.3),\n",
       "                   passthrough=True)</pre></div></div></div><div class=\"sk-serial\"><div class=\"sk-item\"><div class=\"sk-parallel\"><div class=\"sk-parallel-item\"><div class=\"sk-item\"><div class=\"sk-label-container\"><div class=\"sk-label sk-toggleable\"><label>multiNB1</label></div></div><div class=\"sk-serial\"><div class=\"sk-item\"><div class=\"sk-estimator sk-toggleable\"><input class=\"sk-toggleable__control sk-hidden--visually\" id=\"sk-estimator-id-4\" type=\"checkbox\" ><label for=\"sk-estimator-id-4\" class=\"sk-toggleable__label sk-toggleable__label-arrow\">MultinomialNB</label><div class=\"sk-toggleable__content\"><pre>MultinomialNB(alpha=0.1)</pre></div></div></div></div></div></div></div></div><div class=\"sk-item\"><div class=\"sk-parallel\"><div class=\"sk-parallel-item\"><div class=\"sk-item\"><div class=\"sk-label-container\"><div class=\"sk-label sk-toggleable\"><label>final_estimator</label></div></div><div class=\"sk-serial\"><div class=\"sk-item\"><div class=\"sk-estimator sk-toggleable\"><input class=\"sk-toggleable__control sk-hidden--visually\" id=\"sk-estimator-id-5\" type=\"checkbox\" ><label for=\"sk-estimator-id-5\" class=\"sk-toggleable__label sk-toggleable__label-arrow\">RidgeClassifier</label><div class=\"sk-toggleable__content\"><pre>RidgeClassifier(alpha=0.3)</pre></div></div></div></div></div></div></div></div></div></div></div></div>"
      ],
      "text/plain": [
       "StackingClassifier(estimators=[('multiNB1', MultinomialNB(alpha=0.1))],\n",
       "                   final_estimator=RidgeClassifier(alpha=0.3),\n",
       "                   passthrough=True)"
      ]
     },
     "execution_count": 48,
     "metadata": {},
     "output_type": "execute_result"
    }
   ],
   "source": [
    "clf_stack1.fit(X_train , y_train)"
   ]
  },
  {
   "cell_type": "code",
   "execution_count": 49,
   "id": "d172ec39",
   "metadata": {
    "execution": {
     "iopub.execute_input": "2023-06-23T23:44:57.456686Z",
     "iopub.status.busy": "2023-06-23T23:44:57.455898Z",
     "iopub.status.idle": "2023-06-23T23:44:59.092936Z",
     "shell.execute_reply": "2023-06-23T23:44:59.091748Z"
    },
    "papermill": {
     "duration": 1.670002,
     "end_time": "2023-06-23T23:44:59.095418",
     "exception": false,
     "start_time": "2023-06-23T23:44:57.425416",
     "status": "completed"
    },
    "tags": []
   },
   "outputs": [],
   "source": [
    "pred_stack1 = clf_stack1.predict(X_test)"
   ]
  },
  {
   "cell_type": "code",
   "execution_count": 50,
   "id": "2d3a9efc",
   "metadata": {
    "execution": {
     "iopub.execute_input": "2023-06-23T23:44:59.133078Z",
     "iopub.status.busy": "2023-06-23T23:44:59.132637Z",
     "iopub.status.idle": "2023-06-23T23:44:59.168615Z",
     "shell.execute_reply": "2023-06-23T23:44:59.167848Z"
    },
    "papermill": {
     "duration": 0.057168,
     "end_time": "2023-06-23T23:44:59.170861",
     "exception": false,
     "start_time": "2023-06-23T23:44:59.113693",
     "status": "completed"
    },
    "tags": []
   },
   "outputs": [
    {
     "data": {
      "text/html": [
       "<div>\n",
       "<style scoped>\n",
       "    .dataframe tbody tr th:only-of-type {\n",
       "        vertical-align: middle;\n",
       "    }\n",
       "\n",
       "    .dataframe tbody tr th {\n",
       "        vertical-align: top;\n",
       "    }\n",
       "\n",
       "    .dataframe thead th {\n",
       "        text-align: right;\n",
       "    }\n",
       "</style>\n",
       "<table border=\"1\" class=\"dataframe\">\n",
       "  <thead>\n",
       "    <tr style=\"text-align: right;\">\n",
       "      <th></th>\n",
       "      <th>F1-Macro</th>\n",
       "      <th>F1-Accuracy</th>\n",
       "      <th>F1-Weighted</th>\n",
       "    </tr>\n",
       "  </thead>\n",
       "  <tbody>\n",
       "    <tr>\n",
       "      <th>clf_Stack1</th>\n",
       "      <td>0.999848</td>\n",
       "      <td>0.999848</td>\n",
       "      <td>0.999848</td>\n",
       "    </tr>\n",
       "  </tbody>\n",
       "</table>\n",
       "</div>"
      ],
      "text/plain": [
       "            F1-Macro  F1-Accuracy  F1-Weighted\n",
       "clf_Stack1  0.999848     0.999848     0.999848"
      ]
     },
     "execution_count": 50,
     "metadata": {},
     "output_type": "execute_result"
    }
   ],
   "source": [
    "model_stats = {}\n",
    "model_stats['clf_Stack1'] = {\n",
    "        'F1-Macro':metrics.f1_score(y_test, pred_stack1, average='macro'),\n",
    "        'F1-Accuracy':metrics.f1_score(y_test, pred_stack1, average='micro'),\n",
    "        'F1-Weighted':metrics.f1_score(y_test, pred_stack1, average='weighted')}\n",
    "pd.DataFrame.from_dict(model_stats, orient='index')"
   ]
  },
  {
   "cell_type": "code",
   "execution_count": 51,
   "id": "3682fe21",
   "metadata": {
    "execution": {
     "iopub.execute_input": "2023-06-23T23:44:59.208090Z",
     "iopub.status.busy": "2023-06-23T23:44:59.207368Z",
     "iopub.status.idle": "2023-06-23T23:44:59.212238Z",
     "shell.execute_reply": "2023-06-23T23:44:59.211519Z"
    },
    "papermill": {
     "duration": 0.025557,
     "end_time": "2023-06-23T23:44:59.214115",
     "exception": false,
     "start_time": "2023-06-23T23:44:59.188558",
     "status": "completed"
    },
    "tags": []
   },
   "outputs": [],
   "source": [
    "multiNB1 = MultinomialNB(alpha=0.1)\n",
    "multiNB2 = MultinomialNB(alpha=0.1)\n",
    "\n",
    "estimators2 = [('multiNB1', multiNB1), ('multiNB2', multiNB2)]\n",
    "final_est = RidgeClassifier(alpha=0.3)"
   ]
  },
  {
   "cell_type": "code",
   "execution_count": 52,
   "id": "26d0c623",
   "metadata": {
    "execution": {
     "iopub.execute_input": "2023-06-23T23:44:59.251423Z",
     "iopub.status.busy": "2023-06-23T23:44:59.250466Z",
     "iopub.status.idle": "2023-06-23T23:44:59.255132Z",
     "shell.execute_reply": "2023-06-23T23:44:59.254146Z"
    },
    "papermill": {
     "duration": 0.025551,
     "end_time": "2023-06-23T23:44:59.257246",
     "exception": false,
     "start_time": "2023-06-23T23:44:59.231695",
     "status": "completed"
    },
    "tags": []
   },
   "outputs": [],
   "source": [
    "clf_stack2 = StackingClassifier(estimators = estimators2,\n",
    "                           final_estimator = final_est,\n",
    "                           passthrough = True)"
   ]
  },
  {
   "cell_type": "code",
   "execution_count": 53,
   "id": "55e3f46e",
   "metadata": {
    "execution": {
     "iopub.execute_input": "2023-06-23T23:44:59.294114Z",
     "iopub.status.busy": "2023-06-23T23:44:59.293702Z",
     "iopub.status.idle": "2023-06-23T23:47:16.457832Z",
     "shell.execute_reply": "2023-06-23T23:47:16.456827Z"
    },
    "papermill": {
     "duration": 137.233959,
     "end_time": "2023-06-23T23:47:16.508834",
     "exception": false,
     "start_time": "2023-06-23T23:44:59.274875",
     "status": "completed"
    },
    "tags": []
   },
   "outputs": [
    {
     "data": {
      "text/html": [
       "<style>#sk-container-id-4 {color: black;background-color: white;}#sk-container-id-4 pre{padding: 0;}#sk-container-id-4 div.sk-toggleable {background-color: white;}#sk-container-id-4 label.sk-toggleable__label {cursor: pointer;display: block;width: 100%;margin-bottom: 0;padding: 0.3em;box-sizing: border-box;text-align: center;}#sk-container-id-4 label.sk-toggleable__label-arrow:before {content: \"▸\";float: left;margin-right: 0.25em;color: #696969;}#sk-container-id-4 label.sk-toggleable__label-arrow:hover:before {color: black;}#sk-container-id-4 div.sk-estimator:hover label.sk-toggleable__label-arrow:before {color: black;}#sk-container-id-4 div.sk-toggleable__content {max-height: 0;max-width: 0;overflow: hidden;text-align: left;background-color: #f0f8ff;}#sk-container-id-4 div.sk-toggleable__content pre {margin: 0.2em;color: black;border-radius: 0.25em;background-color: #f0f8ff;}#sk-container-id-4 input.sk-toggleable__control:checked~div.sk-toggleable__content {max-height: 200px;max-width: 100%;overflow: auto;}#sk-container-id-4 input.sk-toggleable__control:checked~label.sk-toggleable__label-arrow:before {content: \"▾\";}#sk-container-id-4 div.sk-estimator input.sk-toggleable__control:checked~label.sk-toggleable__label {background-color: #d4ebff;}#sk-container-id-4 div.sk-label input.sk-toggleable__control:checked~label.sk-toggleable__label {background-color: #d4ebff;}#sk-container-id-4 input.sk-hidden--visually {border: 0;clip: rect(1px 1px 1px 1px);clip: rect(1px, 1px, 1px, 1px);height: 1px;margin: -1px;overflow: hidden;padding: 0;position: absolute;width: 1px;}#sk-container-id-4 div.sk-estimator {font-family: monospace;background-color: #f0f8ff;border: 1px dotted black;border-radius: 0.25em;box-sizing: border-box;margin-bottom: 0.5em;}#sk-container-id-4 div.sk-estimator:hover {background-color: #d4ebff;}#sk-container-id-4 div.sk-parallel-item::after {content: \"\";width: 100%;border-bottom: 1px solid gray;flex-grow: 1;}#sk-container-id-4 div.sk-label:hover label.sk-toggleable__label {background-color: #d4ebff;}#sk-container-id-4 div.sk-serial::before {content: \"\";position: absolute;border-left: 1px solid gray;box-sizing: border-box;top: 0;bottom: 0;left: 50%;z-index: 0;}#sk-container-id-4 div.sk-serial {display: flex;flex-direction: column;align-items: center;background-color: white;padding-right: 0.2em;padding-left: 0.2em;position: relative;}#sk-container-id-4 div.sk-item {position: relative;z-index: 1;}#sk-container-id-4 div.sk-parallel {display: flex;align-items: stretch;justify-content: center;background-color: white;position: relative;}#sk-container-id-4 div.sk-item::before, #sk-container-id-4 div.sk-parallel-item::before {content: \"\";position: absolute;border-left: 1px solid gray;box-sizing: border-box;top: 0;bottom: 0;left: 50%;z-index: -1;}#sk-container-id-4 div.sk-parallel-item {display: flex;flex-direction: column;z-index: 1;position: relative;background-color: white;}#sk-container-id-4 div.sk-parallel-item:first-child::after {align-self: flex-end;width: 50%;}#sk-container-id-4 div.sk-parallel-item:last-child::after {align-self: flex-start;width: 50%;}#sk-container-id-4 div.sk-parallel-item:only-child::after {width: 0;}#sk-container-id-4 div.sk-dashed-wrapped {border: 1px dashed gray;margin: 0 0.4em 0.5em 0.4em;box-sizing: border-box;padding-bottom: 0.4em;background-color: white;}#sk-container-id-4 div.sk-label label {font-family: monospace;font-weight: bold;display: inline-block;line-height: 1.2em;}#sk-container-id-4 div.sk-label-container {text-align: center;}#sk-container-id-4 div.sk-container {/* jupyter's `normalize.less` sets `[hidden] { display: none; }` but bootstrap.min.css set `[hidden] { display: none !important; }` so we also need the `!important` here to be able to override the default hidden behavior on the sphinx rendered scikit-learn.org. See: https://github.com/scikit-learn/scikit-learn/issues/21755 */display: inline-block !important;position: relative;}#sk-container-id-4 div.sk-text-repr-fallback {display: none;}</style><div id=\"sk-container-id-4\" class=\"sk-top-container\"><div class=\"sk-text-repr-fallback\"><pre>StackingClassifier(estimators=[(&#x27;multiNB1&#x27;, MultinomialNB(alpha=0.1)),\n",
       "                               (&#x27;multiNB2&#x27;, MultinomialNB(alpha=0.1))],\n",
       "                   final_estimator=RidgeClassifier(alpha=0.3),\n",
       "                   passthrough=True)</pre><b>In a Jupyter environment, please rerun this cell to show the HTML representation or trust the notebook. <br />On GitHub, the HTML representation is unable to render, please try loading this page with nbviewer.org.</b></div><div class=\"sk-container\" hidden><div class=\"sk-item sk-dashed-wrapped\"><div class=\"sk-label-container\"><div class=\"sk-label sk-toggleable\"><input class=\"sk-toggleable__control sk-hidden--visually\" id=\"sk-estimator-id-6\" type=\"checkbox\" ><label for=\"sk-estimator-id-6\" class=\"sk-toggleable__label sk-toggleable__label-arrow\">StackingClassifier</label><div class=\"sk-toggleable__content\"><pre>StackingClassifier(estimators=[(&#x27;multiNB1&#x27;, MultinomialNB(alpha=0.1)),\n",
       "                               (&#x27;multiNB2&#x27;, MultinomialNB(alpha=0.1))],\n",
       "                   final_estimator=RidgeClassifier(alpha=0.3),\n",
       "                   passthrough=True)</pre></div></div></div><div class=\"sk-serial\"><div class=\"sk-item\"><div class=\"sk-parallel\"><div class=\"sk-parallel-item\"><div class=\"sk-item\"><div class=\"sk-label-container\"><div class=\"sk-label sk-toggleable\"><label>multiNB1</label></div></div><div class=\"sk-serial\"><div class=\"sk-item\"><div class=\"sk-estimator sk-toggleable\"><input class=\"sk-toggleable__control sk-hidden--visually\" id=\"sk-estimator-id-7\" type=\"checkbox\" ><label for=\"sk-estimator-id-7\" class=\"sk-toggleable__label sk-toggleable__label-arrow\">MultinomialNB</label><div class=\"sk-toggleable__content\"><pre>MultinomialNB(alpha=0.1)</pre></div></div></div></div></div></div><div class=\"sk-parallel-item\"><div class=\"sk-item\"><div class=\"sk-label-container\"><div class=\"sk-label sk-toggleable\"><label>multiNB2</label></div></div><div class=\"sk-serial\"><div class=\"sk-item\"><div class=\"sk-estimator sk-toggleable\"><input class=\"sk-toggleable__control sk-hidden--visually\" id=\"sk-estimator-id-8\" type=\"checkbox\" ><label for=\"sk-estimator-id-8\" class=\"sk-toggleable__label sk-toggleable__label-arrow\">MultinomialNB</label><div class=\"sk-toggleable__content\"><pre>MultinomialNB(alpha=0.1)</pre></div></div></div></div></div></div></div></div><div class=\"sk-item\"><div class=\"sk-parallel\"><div class=\"sk-parallel-item\"><div class=\"sk-item\"><div class=\"sk-label-container\"><div class=\"sk-label sk-toggleable\"><label>final_estimator</label></div></div><div class=\"sk-serial\"><div class=\"sk-item\"><div class=\"sk-estimator sk-toggleable\"><input class=\"sk-toggleable__control sk-hidden--visually\" id=\"sk-estimator-id-9\" type=\"checkbox\" ><label for=\"sk-estimator-id-9\" class=\"sk-toggleable__label sk-toggleable__label-arrow\">RidgeClassifier</label><div class=\"sk-toggleable__content\"><pre>RidgeClassifier(alpha=0.3)</pre></div></div></div></div></div></div></div></div></div></div></div></div>"
      ],
      "text/plain": [
       "StackingClassifier(estimators=[('multiNB1', MultinomialNB(alpha=0.1)),\n",
       "                               ('multiNB2', MultinomialNB(alpha=0.1))],\n",
       "                   final_estimator=RidgeClassifier(alpha=0.3),\n",
       "                   passthrough=True)"
      ]
     },
     "execution_count": 53,
     "metadata": {},
     "output_type": "execute_result"
    }
   ],
   "source": [
    "clf_stack2.fit(X_train , y_train)"
   ]
  },
  {
   "cell_type": "code",
   "execution_count": 54,
   "id": "86d84366",
   "metadata": {
    "execution": {
     "iopub.execute_input": "2023-06-23T23:47:16.565641Z",
     "iopub.status.busy": "2023-06-23T23:47:16.565245Z",
     "iopub.status.idle": "2023-06-23T23:47:18.433528Z",
     "shell.execute_reply": "2023-06-23T23:47:18.432145Z"
    },
    "papermill": {
     "duration": 1.89845,
     "end_time": "2023-06-23T23:47:18.436048",
     "exception": false,
     "start_time": "2023-06-23T23:47:16.537598",
     "status": "completed"
    },
    "tags": []
   },
   "outputs": [],
   "source": [
    "pred_stack2 = clf_stack2.predict(X_test)"
   ]
  },
  {
   "cell_type": "code",
   "execution_count": 55,
   "id": "b5dd676b",
   "metadata": {
    "execution": {
     "iopub.execute_input": "2023-06-23T23:47:18.473981Z",
     "iopub.status.busy": "2023-06-23T23:47:18.473338Z",
     "iopub.status.idle": "2023-06-23T23:47:18.508149Z",
     "shell.execute_reply": "2023-06-23T23:47:18.507412Z"
    },
    "papermill": {
     "duration": 0.055817,
     "end_time": "2023-06-23T23:47:18.510092",
     "exception": false,
     "start_time": "2023-06-23T23:47:18.454275",
     "status": "completed"
    },
    "tags": []
   },
   "outputs": [
    {
     "data": {
      "text/html": [
       "<div>\n",
       "<style scoped>\n",
       "    .dataframe tbody tr th:only-of-type {\n",
       "        vertical-align: middle;\n",
       "    }\n",
       "\n",
       "    .dataframe tbody tr th {\n",
       "        vertical-align: top;\n",
       "    }\n",
       "\n",
       "    .dataframe thead th {\n",
       "        text-align: right;\n",
       "    }\n",
       "</style>\n",
       "<table border=\"1\" class=\"dataframe\">\n",
       "  <thead>\n",
       "    <tr style=\"text-align: right;\">\n",
       "      <th></th>\n",
       "      <th>F1-Macro</th>\n",
       "      <th>F1-Accuracy</th>\n",
       "      <th>F1-Weighted</th>\n",
       "    </tr>\n",
       "  </thead>\n",
       "  <tbody>\n",
       "    <tr>\n",
       "      <th>clf_Stack1</th>\n",
       "      <td>0.999848</td>\n",
       "      <td>0.999848</td>\n",
       "      <td>0.999848</td>\n",
       "    </tr>\n",
       "    <tr>\n",
       "      <th>clf_Stack2</th>\n",
       "      <td>0.999848</td>\n",
       "      <td>0.999848</td>\n",
       "      <td>0.999848</td>\n",
       "    </tr>\n",
       "  </tbody>\n",
       "</table>\n",
       "</div>"
      ],
      "text/plain": [
       "            F1-Macro  F1-Accuracy  F1-Weighted\n",
       "clf_Stack1  0.999848     0.999848     0.999848\n",
       "clf_Stack2  0.999848     0.999848     0.999848"
      ]
     },
     "execution_count": 55,
     "metadata": {},
     "output_type": "execute_result"
    }
   ],
   "source": [
    "model_stats['clf_Stack2'] = {\n",
    "        'F1-Macro':metrics.f1_score(y_test, pred_stack2, average='macro'),\n",
    "        'F1-Accuracy':metrics.f1_score(y_test, pred_stack2, average='micro'),\n",
    "        'F1-Weighted':metrics.f1_score(y_test, pred_stack2, average='weighted')}\n",
    "pd.DataFrame.from_dict(model_stats, orient='index')"
   ]
  },
  {
   "cell_type": "code",
   "execution_count": 56,
   "id": "6922b59b",
   "metadata": {
    "execution": {
     "iopub.execute_input": "2023-06-23T23:47:18.548367Z",
     "iopub.status.busy": "2023-06-23T23:47:18.547705Z",
     "iopub.status.idle": "2023-06-23T23:47:18.594136Z",
     "shell.execute_reply": "2023-06-23T23:47:18.593307Z"
    },
    "papermill": {
     "duration": 0.068061,
     "end_time": "2023-06-23T23:47:18.596063",
     "exception": false,
     "start_time": "2023-06-23T23:47:18.528002",
     "status": "completed"
    },
    "tags": []
   },
   "outputs": [
    {
     "data": {
      "text/html": [
       "<div>\n",
       "<style scoped>\n",
       "    .dataframe tbody tr th:only-of-type {\n",
       "        vertical-align: middle;\n",
       "    }\n",
       "\n",
       "    .dataframe tbody tr th {\n",
       "        vertical-align: top;\n",
       "    }\n",
       "\n",
       "    .dataframe thead th {\n",
       "        text-align: right;\n",
       "    }\n",
       "</style>\n",
       "<table border=\"1\" class=\"dataframe\">\n",
       "  <thead>\n",
       "    <tr style=\"text-align: right;\">\n",
       "      <th></th>\n",
       "      <th>index</th>\n",
       "      <th>text</th>\n",
       "    </tr>\n",
       "  </thead>\n",
       "  <tbody>\n",
       "    <tr>\n",
       "      <th>0</th>\n",
       "      <td>1</td>\n",
       "      <td>Mmasepala, fa maemo a a kgethegileng a letlele...</td>\n",
       "    </tr>\n",
       "    <tr>\n",
       "      <th>1</th>\n",
       "      <td>2</td>\n",
       "      <td>Uzakwaziswa ngokufaneleko nakungafuneka eminye...</td>\n",
       "    </tr>\n",
       "    <tr>\n",
       "      <th>2</th>\n",
       "      <td>3</td>\n",
       "      <td>Tshivhumbeo tshi fana na ngano dza vhathu.</td>\n",
       "    </tr>\n",
       "    <tr>\n",
       "      <th>3</th>\n",
       "      <td>4</td>\n",
       "      <td>Kube inja nelikati betingevakala kutsi titsini...</td>\n",
       "    </tr>\n",
       "    <tr>\n",
       "      <th>4</th>\n",
       "      <td>5</td>\n",
       "      <td>Winste op buitelandse valuta.</td>\n",
       "    </tr>\n",
       "  </tbody>\n",
       "</table>\n",
       "</div>"
      ],
      "text/plain": [
       "   index                                               text\n",
       "0      1  Mmasepala, fa maemo a a kgethegileng a letlele...\n",
       "1      2  Uzakwaziswa ngokufaneleko nakungafuneka eminye...\n",
       "2      3         Tshivhumbeo tshi fana na ngano dza vhathu.\n",
       "3      4  Kube inja nelikati betingevakala kutsi titsini...\n",
       "4      5                      Winste op buitelandse valuta."
      ]
     },
     "execution_count": 56,
     "metadata": {},
     "output_type": "execute_result"
    }
   ],
   "source": [
    "dt = pd.read_csv(\"/kaggle/input/south-african-language-identification-hack-2023/test_set.csv\")\n",
    "dt.head()"
   ]
  },
  {
   "cell_type": "code",
   "execution_count": 57,
   "id": "6b57b22d",
   "metadata": {
    "execution": {
     "iopub.execute_input": "2023-06-23T23:47:18.634033Z",
     "iopub.status.busy": "2023-06-23T23:47:18.633649Z",
     "iopub.status.idle": "2023-06-23T23:47:18.962724Z",
     "shell.execute_reply": "2023-06-23T23:47:18.961891Z"
    },
    "papermill": {
     "duration": 0.350466,
     "end_time": "2023-06-23T23:47:18.964726",
     "exception": false,
     "start_time": "2023-06-23T23:47:18.614260",
     "status": "completed"
    },
    "tags": []
   },
   "outputs": [
    {
     "data": {
      "text/html": [
       "<div>\n",
       "<style scoped>\n",
       "    .dataframe tbody tr th:only-of-type {\n",
       "        vertical-align: middle;\n",
       "    }\n",
       "\n",
       "    .dataframe tbody tr th {\n",
       "        vertical-align: top;\n",
       "    }\n",
       "\n",
       "    .dataframe thead th {\n",
       "        text-align: right;\n",
       "    }\n",
       "</style>\n",
       "<table border=\"1\" class=\"dataframe\">\n",
       "  <thead>\n",
       "    <tr style=\"text-align: right;\">\n",
       "      <th></th>\n",
       "      <th>index</th>\n",
       "      <th>text</th>\n",
       "      <th>clean</th>\n",
       "    </tr>\n",
       "  </thead>\n",
       "  <tbody>\n",
       "    <tr>\n",
       "      <th>0</th>\n",
       "      <td>1</td>\n",
       "      <td>Mmasepala, fa maemo a a kgethegileng a letlele...</td>\n",
       "      <td>mmasepala fa maemo kgethegileng letlelela kgat...</td>\n",
       "    </tr>\n",
       "    <tr>\n",
       "      <th>1</th>\n",
       "      <td>2</td>\n",
       "      <td>Uzakwaziswa ngokufaneleko nakungafuneka eminye...</td>\n",
       "      <td>uzakwaziswa ngokufaneleko nakungafuneka eminye...</td>\n",
       "    </tr>\n",
       "    <tr>\n",
       "      <th>2</th>\n",
       "      <td>3</td>\n",
       "      <td>Tshivhumbeo tshi fana na ngano dza vhathu.</td>\n",
       "      <td>tshivhumbeo tshi fana na ngano dza vhathu</td>\n",
       "    </tr>\n",
       "    <tr>\n",
       "      <th>3</th>\n",
       "      <td>4</td>\n",
       "      <td>Kube inja nelikati betingevakala kutsi titsini...</td>\n",
       "      <td>kube inja nelikati betingevakala kutsi titsini...</td>\n",
       "    </tr>\n",
       "    <tr>\n",
       "      <th>4</th>\n",
       "      <td>5</td>\n",
       "      <td>Winste op buitelandse valuta.</td>\n",
       "      <td>winste op buitelandse valuta</td>\n",
       "    </tr>\n",
       "  </tbody>\n",
       "</table>\n",
       "</div>"
      ],
      "text/plain": [
       "   index                                               text  \\\n",
       "0      1  Mmasepala, fa maemo a a kgethegileng a letlele...   \n",
       "1      2  Uzakwaziswa ngokufaneleko nakungafuneka eminye...   \n",
       "2      3         Tshivhumbeo tshi fana na ngano dza vhathu.   \n",
       "3      4  Kube inja nelikati betingevakala kutsi titsini...   \n",
       "4      5                      Winste op buitelandse valuta.   \n",
       "\n",
       "                                               clean  \n",
       "0  mmasepala fa maemo kgethegileng letlelela kgat...  \n",
       "1  uzakwaziswa ngokufaneleko nakungafuneka eminye...  \n",
       "2          tshivhumbeo tshi fana na ngano dza vhathu  \n",
       "3  kube inja nelikati betingevakala kutsi titsini...  \n",
       "4                       winste op buitelandse valuta  "
      ]
     },
     "execution_count": 57,
     "metadata": {},
     "output_type": "execute_result"
    }
   ],
   "source": [
    "dt['clean'] = dt[ft].apply(clean)\n",
    "dt.head()"
   ]
  },
  {
   "cell_type": "code",
   "execution_count": 58,
   "id": "ff887c01",
   "metadata": {
    "execution": {
     "iopub.execute_input": "2023-06-23T23:47:19.003629Z",
     "iopub.status.busy": "2023-06-23T23:47:19.002969Z",
     "iopub.status.idle": "2023-06-23T23:47:22.573570Z",
     "shell.execute_reply": "2023-06-23T23:47:22.572507Z"
    },
    "papermill": {
     "duration": 3.592762,
     "end_time": "2023-06-23T23:47:22.575970",
     "exception": false,
     "start_time": "2023-06-23T23:47:18.983208",
     "status": "completed"
    },
    "tags": []
   },
   "outputs": [],
   "source": [
    "X = dt['clean']\n",
    "vectorize = vect.transform(X)\n",
    "dt[label] = clf_stack1.predict(vectorize)"
   ]
  },
  {
   "cell_type": "code",
   "execution_count": 59,
   "id": "a838aea3",
   "metadata": {
    "execution": {
     "iopub.execute_input": "2023-06-23T23:47:22.614871Z",
     "iopub.status.busy": "2023-06-23T23:47:22.614427Z",
     "iopub.status.idle": "2023-06-23T23:47:22.645606Z",
     "shell.execute_reply": "2023-06-23T23:47:22.644638Z"
    },
    "papermill": {
     "duration": 0.053304,
     "end_time": "2023-06-23T23:47:22.647855",
     "exception": false,
     "start_time": "2023-06-23T23:47:22.594551",
     "status": "completed"
    },
    "tags": []
   },
   "outputs": [
    {
     "data": {
      "text/html": [
       "<div>\n",
       "<style scoped>\n",
       "    .dataframe tbody tr th:only-of-type {\n",
       "        vertical-align: middle;\n",
       "    }\n",
       "\n",
       "    .dataframe tbody tr th {\n",
       "        vertical-align: top;\n",
       "    }\n",
       "\n",
       "    .dataframe thead th {\n",
       "        text-align: right;\n",
       "    }\n",
       "</style>\n",
       "<table border=\"1\" class=\"dataframe\">\n",
       "  <thead>\n",
       "    <tr style=\"text-align: right;\">\n",
       "      <th></th>\n",
       "      <th>index</th>\n",
       "      <th>lang_id</th>\n",
       "    </tr>\n",
       "  </thead>\n",
       "  <tbody>\n",
       "    <tr>\n",
       "      <th>0</th>\n",
       "      <td>1</td>\n",
       "      <td>6</td>\n",
       "    </tr>\n",
       "    <tr>\n",
       "      <th>1</th>\n",
       "      <td>2</td>\n",
       "      <td>2</td>\n",
       "    </tr>\n",
       "    <tr>\n",
       "      <th>2</th>\n",
       "      <td>3</td>\n",
       "      <td>8</td>\n",
       "    </tr>\n",
       "    <tr>\n",
       "      <th>3</th>\n",
       "      <td>4</td>\n",
       "      <td>5</td>\n",
       "    </tr>\n",
       "    <tr>\n",
       "      <th>4</th>\n",
       "      <td>5</td>\n",
       "      <td>0</td>\n",
       "    </tr>\n",
       "    <tr>\n",
       "      <th>...</th>\n",
       "      <td>...</td>\n",
       "      <td>...</td>\n",
       "    </tr>\n",
       "    <tr>\n",
       "      <th>5677</th>\n",
       "      <td>5678</td>\n",
       "      <td>1</td>\n",
       "    </tr>\n",
       "    <tr>\n",
       "      <th>5678</th>\n",
       "      <td>5679</td>\n",
       "      <td>3</td>\n",
       "    </tr>\n",
       "    <tr>\n",
       "      <th>5679</th>\n",
       "      <td>5680</td>\n",
       "      <td>4</td>\n",
       "    </tr>\n",
       "    <tr>\n",
       "      <th>5680</th>\n",
       "      <td>5681</td>\n",
       "      <td>4</td>\n",
       "    </tr>\n",
       "    <tr>\n",
       "      <th>5681</th>\n",
       "      <td>5682</td>\n",
       "      <td>2</td>\n",
       "    </tr>\n",
       "  </tbody>\n",
       "</table>\n",
       "<p>5682 rows × 2 columns</p>\n",
       "</div>"
      ],
      "text/plain": [
       "      index  lang_id\n",
       "0         1        6\n",
       "1         2        2\n",
       "2         3        8\n",
       "3         4        5\n",
       "4         5        0\n",
       "...     ...      ...\n",
       "5677   5678        1\n",
       "5678   5679        3\n",
       "5679   5680        4\n",
       "5680   5681        4\n",
       "5681   5682        2\n",
       "\n",
       "[5682 rows x 2 columns]"
      ]
     },
     "execution_count": 59,
     "metadata": {},
     "output_type": "execute_result"
    }
   ],
   "source": [
    "submission = dt[['index', 'lang_id']]\n",
    "submission.to_csv('Submission.csv',index=False)\n",
    "submission"
   ]
  },
  {
   "cell_type": "code",
   "execution_count": 60,
   "id": "a4b2e122",
   "metadata": {
    "execution": {
     "iopub.execute_input": "2023-06-23T23:47:22.687266Z",
     "iopub.status.busy": "2023-06-23T23:47:22.686658Z",
     "iopub.status.idle": "2023-06-23T23:47:22.693423Z",
     "shell.execute_reply": "2023-06-23T23:47:22.692520Z"
    },
    "papermill": {
     "duration": 0.028869,
     "end_time": "2023-06-23T23:47:22.695370",
     "exception": false,
     "start_time": "2023-06-23T23:47:22.666501",
     "status": "completed"
    },
    "tags": []
   },
   "outputs": [
    {
     "data": {
      "text/plain": [
       "0       mmasepala fa maemo kgethegileng letlelela kgat...\n",
       "1       uzakwaziswa ngokufaneleko nakungafuneka eminye...\n",
       "2               tshivhumbeo tshi fana na ngano dza vhathu\n",
       "3       kube inja nelikati betingevakala kutsi titsini...\n",
       "4                            winste op buitelandse valuta\n",
       "                              ...                        \n",
       "5677                                  mark ballot private\n",
       "5678    ge ka kgetha ka bowena go se omie mofani ka ti...\n",
       "5679    e ka kopo etsa kgetho ya hao ka hloko hobane h...\n",
       "5680    tb ke bokudi ba pmb mme morero tla lefella tlh...\n",
       "5681                 vakatjhela iwebhusayidi yethu ku www\n",
       "Name: clean, Length: 5682, dtype: object"
      ]
     },
     "execution_count": 60,
     "metadata": {},
     "output_type": "execute_result"
    }
   ],
   "source": [
    "dt.clean"
   ]
  },
  {
   "cell_type": "markdown",
   "id": "ea9c3690",
   "metadata": {
    "papermill": {
     "duration": 0.018769,
     "end_time": "2023-06-23T23:47:22.733533",
     "exception": false,
     "start_time": "2023-06-23T23:47:22.714764",
     "status": "completed"
    },
    "tags": []
   },
   "source": [
    "# Solution Reference"
   ]
  },
  {
   "cell_type": "markdown",
   "id": "e3e5a9fa",
   "metadata": {
    "papermill": {
     "duration": 0.018592,
     "end_time": "2023-06-23T23:47:22.770907",
     "exception": false,
     "start_time": "2023-06-23T23:47:22.752315",
     "status": "completed"
    },
    "tags": []
   },
   "source": [
    "[Frank6496 on GitHub](https://github.com/Frank6496/Language-Identification-Hackathon)"
   ]
  }
 ],
 "metadata": {
  "kernelspec": {
   "display_name": "Python 3",
   "language": "python",
   "name": "python3"
  },
  "language_info": {
   "codemirror_mode": {
    "name": "ipython",
    "version": 3
   },
   "file_extension": ".py",
   "mimetype": "text/x-python",
   "name": "python",
   "nbconvert_exporter": "python",
   "pygments_lexer": "ipython3",
   "version": "3.10.10"
  },
  "papermill": {
   "default_parameters": {},
   "duration": 1580.577427,
   "end_time": "2023-06-23T23:47:25.413269",
   "environment_variables": {},
   "exception": null,
   "input_path": "__notebook__.ipynb",
   "output_path": "__notebook__.ipynb",
   "parameters": {},
   "start_time": "2023-06-23T23:21:04.835842",
   "version": "2.4.0"
  }
 },
 "nbformat": 4,
 "nbformat_minor": 5
}
